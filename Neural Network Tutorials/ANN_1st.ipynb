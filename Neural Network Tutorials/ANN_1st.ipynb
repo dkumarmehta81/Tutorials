{
 "cells": [
  {
   "cell_type": "code",
   "execution_count": 1,
   "metadata": {},
   "outputs": [],
   "source": [
    "import numpy as np\n",
    "from random import randint\n",
    "from sklearn.utils import shuffle\n",
    "from sklearn.preprocessing import MinMaxScaler\n"
   ]
  },
  {
   "cell_type": "code",
   "execution_count": 14,
   "metadata": {},
   "outputs": [],
   "source": [
    "training_samples=[]\n",
    "training_labels=[]"
   ]
  },
  {
   "cell_type": "code",
   "execution_count": 15,
   "metadata": {},
   "outputs": [],
   "source": [
    "for i in range(50):\n",
    "    random_younger=randint(13,64)\n",
    "    training_samples.append(random_younger)\n",
    "    training_labels.append(1)\n",
    "    \n",
    "    random_older=randint(65,100)\n",
    "    training_samples.append(random_older)\n",
    "    training_labels.append(0)\n"
   ]
  },
  {
   "cell_type": "code",
   "execution_count": 16,
   "metadata": {},
   "outputs": [
    {
     "data": {
      "text/plain": [
       "array([ 14,  80,  36,  95,  30,  66,  43,  73,  32,  84,  56,  74,  24,\n",
       "        88,  56,  69,  64,  81,  44,  72,  37,  99,  63,  70,  13,  73,\n",
       "        55,  78,  20, 100,  36,  65,  45,  91,  51,  73,  62,  89,  52,\n",
       "        76,  35,  93,  37,  74,  58,  87,  32,  72,  39,  88,  45,  77,\n",
       "        31,  69,  58,  86,  38,  83,  13,  83,  27,  96,  45,  81,  39,\n",
       "        88,  43,  78,  30,  72,  29,  76,  38,  99,  26,  89,  62,  72,\n",
       "        57,  76,  41,  89,  36,  76,  27,  99,  45,  96,  36,  81,  50,\n",
       "        87,  46,  90,  61,  91,  43, 100,  13,  84])"
      ]
     },
     "execution_count": 16,
     "metadata": {},
     "output_type": "execute_result"
    }
   ],
   "source": [
    "np.transpose(training_samples)"
   ]
  },
  {
   "cell_type": "code",
   "execution_count": 17,
   "metadata": {},
   "outputs": [
    {
     "data": {
      "text/plain": [
       "array([1, 0, 1, 0, 1, 0, 1, 0, 1, 0, 1, 0, 1, 0, 1, 0, 1, 0, 1, 0, 1, 0,\n",
       "       1, 0, 1, 0, 1, 0, 1, 0, 1, 0, 1, 0, 1, 0, 1, 0, 1, 0, 1, 0, 1, 0,\n",
       "       1, 0, 1, 0, 1, 0, 1, 0, 1, 0, 1, 0, 1, 0, 1, 0, 1, 0, 1, 0, 1, 0,\n",
       "       1, 0, 1, 0, 1, 0, 1, 0, 1, 0, 1, 0, 1, 0, 1, 0, 1, 0, 1, 0, 1, 0,\n",
       "       1, 0, 1, 0, 1, 0, 1, 0, 1, 0, 1, 0])"
      ]
     },
     "execution_count": 17,
     "metadata": {},
     "output_type": "execute_result"
    }
   ],
   "source": [
    "np.transpose(training_labels)"
   ]
  },
  {
   "cell_type": "code",
   "execution_count": 18,
   "metadata": {},
   "outputs": [],
   "source": [
    "for i in range(1000):\n",
    "    random_younger=randint(13,64)\n",
    "    training_samples.append(random_younger)\n",
    "    training_labels.append(0)\n",
    "    \n",
    "    random_older=randint(65,100)\n",
    "    training_samples.append(random_older)\n",
    "    training_labels.append(1)\n",
    "    "
   ]
  },
  {
   "cell_type": "code",
   "execution_count": 19,
   "metadata": {},
   "outputs": [
    {
     "name": "stdout",
     "output_type": "stream",
     "text": [
      "[14, 80, 36, 95, 30, 66, 43, 73, 32, 84, 56, 74, 24, 88, 56, 69, 64, 81, 44, 72, 37, 99, 63, 70, 13, 73, 55, 78, 20, 100, 36, 65, 45, 91, 51, 73, 62, 89, 52, 76, 35, 93, 37, 74, 58, 87, 32, 72, 39, 88, 45, 77, 31, 69, 58, 86, 38, 83, 13, 83, 27, 96, 45, 81, 39, 88, 43, 78, 30, 72, 29, 76, 38, 99, 26, 89, 62, 72, 57, 76, 41, 89, 36, 76, 27, 99, 45, 96, 36, 81, 50, 87, 46, 90, 61, 91, 43, 100, 13, 84, 54, 68, 41, 68, 61, 81, 38, 97, 27, 72, 43, 87, 26, 84, 21, 78, 49, 89, 53, 83, 26, 73, 22, 87, 26, 88, 45, 74, 30, 89, 14, 83, 63, 81, 24, 100, 25, 85, 54, 72, 46, 91, 13, 77, 31, 67, 17, 71, 24, 92, 34, 84, 55, 90, 19, 75, 27, 100, 33, 86, 22, 84, 52, 73, 36, 83, 44, 97, 61, 79, 58, 78, 64, 98, 46, 75, 16, 94, 37, 82, 39, 95, 24, 98, 42, 68, 51, 90, 15, 86, 22, 86, 64, 72, 38, 71, 28, 88, 15, 76, 42, 66, 55, 87, 31, 78, 58, 96, 58, 87, 41, 85, 17, 100, 26, 70, 33, 71, 61, 77, 56, 72, 40, 95, 23, 72, 30, 93, 40, 81, 46, 65, 15, 86, 35, 77, 44, 77, 18, 67, 57, 84, 26, 99, 15, 85, 46, 68, 14, 79, 24, 98, 33, 84, 33, 72, 43, 94, 38, 94, 41, 82, 39, 71, 20, 88, 28, 91, 51, 89, 27, 100, 21, 87, 29, 83, 23, 78, 34, 97, 41, 83, 46, 95, 53, 67, 54, 88, 61, 76, 64, 92, 28, 91, 39, 73, 55, 84, 39, 72, 36, 70, 58, 68, 34, 94, 28, 73, 44, 95, 15, 67, 14, 75, 58, 100, 54, 71, 26, 85, 57, 96, 32, 96, 49, 69, 20, 71, 50, 75, 33, 82, 50, 97, 62, 84, 60, 83, 54, 66, 58, 100, 27, 75, 40, 83, 13, 70, 61, 93, 15, 83, 63, 83, 35, 89, 43, 69, 46, 88, 29, 73, 20, 93, 52, 84, 35, 88, 38, 93, 29, 90, 60, 98, 27, 80, 49, 72, 29, 100, 42, 70, 17, 89, 34, 86, 55, 70, 33, 75, 45, 69, 22, 98, 22, 70, 62, 70, 60, 75, 51, 84, 37, 75, 39, 93, 27, 68, 50, 96, 30, 80, 17, 71, 23, 86, 35, 82, 48, 100, 29, 88, 32, 69, 58, 67, 30, 100, 28, 71, 35, 91, 34, 71, 19, 87, 42, 79, 61, 85, 54, 66, 29, 99, 22, 80, 14, 96, 27, 86, 63, 86, 34, 79, 57, 73, 17, 73, 37, 84, 52, 72, 36, 96, 33, 73, 24, 90, 29, 86, 48, 83, 63, 94, 41, 87, 45, 72, 61, 84, 37, 71, 60, 85, 48, 66, 57, 69, 21, 65, 29, 74, 23, 71, 53, 73, 33, 91, 24, 96, 53, 85, 58, 65, 20, 78, 51, 86, 43, 67, 56, 85, 43, 69, 23, 76, 46, 84, 63, 83, 14, 79, 35, 72, 32, 65, 18, 82, 60, 82, 42, 66, 56, 84, 13, 68, 19, 91, 40, 92, 23, 78, 39, 86, 25, 85, 31, 95, 60, 71, 17, 100, 50, 83, 14, 88, 53, 90, 50, 77, 34, 89, 15, 72, 33, 83, 58, 98, 25, 77, 15, 98, 31, 100, 39, 92, 24, 87, 32, 81, 19, 67, 33, 69, 55, 93, 48, 68, 38, 69, 56, 81, 13, 71, 29, 71, 38, 82, 55, 92, 15, 92, 49, 88, 36, 89, 39, 88, 64, 99, 14, 72, 17, 70, 35, 88, 58, 86, 40, 88, 24, 80, 59, 65, 17, 78, 63, 100, 43, 68, 16, 82, 40, 100, 64, 76, 48, 72, 46, 85, 51, 70, 53, 95, 43, 92, 61, 88, 21, 75, 63, 67, 43, 72, 47, 95, 34, 92, 61, 84, 17, 92, 62, 99, 24, 93, 17, 75, 20, 78, 60, 97, 37, 69, 64, 65, 18, 76, 35, 86, 26, 96, 29, 84, 23, 93, 62, 82, 41, 95, 45, 97, 24, 91, 26, 85, 14, 91, 22, 87, 44, 77, 44, 80, 56, 73, 47, 73, 42, 82, 36, 67, 20, 66, 52, 78, 27, 97, 47, 93, 14, 68, 38, 100, 27, 71, 18, 95, 25, 84, 18, 66, 21, 71, 57, 95, 48, 79, 39, 73, 34, 93, 47, 65, 62, 88, 23, 79, 48, 69, 43, 89, 55, 76, 34, 82, 56, 77, 17, 86, 64, 85, 18, 99, 21, 89, 47, 68, 59, 70, 59, 79, 43, 85, 17, 69, 19, 85, 58, 90, 46, 72, 64, 65, 59, 79, 34, 70, 15, 81, 40, 87, 46, 92, 52, 69, 36, 66, 35, 67, 40, 92, 41, 80, 16, 81, 60, 84, 45, 68, 40, 72, 26, 81, 55, 74, 60, 75, 24, 78, 47, 65, 57, 87, 51, 99, 34, 83, 19, 85, 48, 75, 18, 96, 25, 85, 62, 75, 16, 77, 64, 91, 60, 100, 23, 96, 61, 74, 48, 68, 27, 69, 63, 98, 25, 69, 64, 66, 31, 79, 49, 69, 27, 81, 32, 78, 50, 92, 46, 80, 60, 76, 19, 79, 17, 88, 54, 79, 30, 94, 52, 98, 55, 98, 19, 95, 46, 69, 22, 83, 19, 71, 47, 96, 57, 100, 61, 80, 26, 98, 46, 66, 25, 89, 22, 72, 37, 99, 25, 84, 34, 93, 13, 98, 29, 67, 42, 80, 14, 90, 49, 94, 53, 98, 20, 100, 16, 79, 47, 87, 33, 65, 60, 69, 63, 99, 27, 85, 23, 81, 27, 91, 17, 86, 55, 69, 41, 92, 23, 75, 25, 99, 20, 71, 41, 82, 30, 90, 63, 67, 42, 83, 17, 68, 41, 74, 49, 86, 40, 76, 13, 75, 52, 72, 15, 92, 64, 100, 15, 72, 42, 68, 29, 94, 31, 77, 35, 89, 51, 67, 31, 79, 51, 99, 15, 77, 30, 96, 20, 90, 53, 70, 22, 70, 16, 94, 37, 68, 63, 69, 42, 70, 64, 99, 43, 86, 16, 98, 28, 83, 18, 75, 43, 95, 32, 69, 57, 89, 29, 68, 56, 82, 47, 95, 63, 87, 64, 82, 20, 78, 20, 79, 20, 93, 15, 83, 38, 88, 30, 99, 49, 78, 50, 94, 54, 73, 64, 95, 58, 98, 54, 94, 50, 95, 55, 79, 55, 99, 37, 97, 38, 74, 50, 97, 35, 71, 52, 65, 50, 98, 63, 99, 22, 97, 62, 100, 35, 86, 47, 89, 57, 79, 25, 86, 53, 93, 15, 69, 52, 68, 41, 80, 38, 78, 53, 65, 46, 65, 24, 68, 35, 89, 27, 92, 44, 67, 17, 75, 27, 76, 51, 96, 56, 70, 60, 68, 25, 85, 16, 91, 16, 75, 38, 76, 36, 100, 48, 68, 48, 76, 32, 84, 27, 69, 30, 86, 26, 96, 33, 78, 22, 77, 38, 73, 53, 87, 20, 82, 16, 71, 17, 83, 34, 72, 37, 90, 19, 77, 43, 73, 63, 81, 19, 98, 59, 78, 42, 87, 53, 67, 30, 83, 41, 95, 50, 73, 13, 100, 51, 82, 38, 89, 37, 99, 53, 75, 60, 81, 40, 65, 43, 85, 21, 68, 48, 85, 51, 99, 44, 88, 28, 74, 53, 98, 31, 70, 43, 96, 58, 84, 18, 83, 33, 92, 18, 77, 53, 73, 45, 83, 28, 80, 36, 98, 16, 72, 30, 75, 18, 100, 46, 73, 47, 98, 15, 92, 62, 69, 60, 87, 41, 90, 16, 66, 31, 79, 35, 96, 62, 69, 52, 86, 33, 67, 33, 96, 24, 95, 45, 97, 33, 75, 26, 66, 52, 92, 23, 70, 58, 76, 28, 77, 17, 93, 22, 66, 20, 98, 56, 84, 24, 99, 35, 79, 53, 100, 54, 94, 20, 88, 51, 88, 38, 68, 32, 89, 23, 78, 19, 87, 49, 85, 34, 94, 15, 91, 45, 66, 20, 96, 34, 97, 49, 92, 27, 99, 33, 85, 50, 77, 28, 73, 52, 98, 53, 83, 64, 91, 37, 87, 46, 95, 37, 92, 52, 83, 16, 90, 46, 90, 18, 75, 22, 71, 14, 94, 43, 89, 40, 98, 25, 93, 16, 81, 17, 77, 14, 93, 34, 83, 36, 75, 29, 82, 29, 81, 57, 97, 16, 97, 41, 81, 48, 88, 46, 85, 37, 76, 52, 89, 21, 93, 40, 84, 49, 72, 34, 80, 13, 98, 57, 93, 42, 98, 27, 90, 58, 94, 27, 73, 62, 95, 46, 78, 29, 75, 21, 66, 36, 79, 30, 89, 25, 97, 25, 89, 42, 82, 61, 88, 13, 77, 53, 76, 23, 82, 22, 71, 42, 82, 64, 81, 19, 71, 20, 70, 47, 84, 59, 79, 15, 97, 26, 88, 42, 89, 54, 83, 42, 85, 17, 91, 53, 68, 24, 66, 38, 99, 22, 75, 20, 73, 34, 94, 28, 100, 55, 92, 29, 95, 34, 90, 26, 67, 39, 68, 31, 98, 34, 70, 46, 69, 27, 68, 16, 79, 14, 92, 39, 86, 59, 90, 38, 72, 29, 65, 63, 94, 36, 75, 13, 68, 45, 79, 53, 72, 34, 78, 45, 76, 19, 71, 33, 83, 63, 92, 33, 65, 64, 86, 30, 74, 34, 67, 52, 75, 62, 97, 35, 69, 47, 70, 41, 71, 58, 72, 24, 85, 23, 70, 34, 78, 47, 91, 37, 96, 61, 96, 21, 68, 20, 92, 30, 96, 55, 95, 54, 72, 40, 73, 39, 71, 31, 81, 58, 68, 23, 100, 24, 76, 62, 99, 43, 82, 55, 66, 52, 69, 45, 98, 42, 94, 14, 75, 24, 97, 58, 87, 34, 70, 17, 95, 18, 96, 58, 76, 14, 77, 32, 94, 13, 68, 31, 90, 31, 86, 49, 76, 41, 72, 14, 94, 33, 83, 62, 93, 53, 65, 49, 85, 43, 93, 24, 98, 41, 73, 16, 92, 49, 76, 50, 100, 46, 71, 17, 96, 42, 71, 23, 81, 44, 86, 35, 76, 40, 81, 45, 66, 29, 94, 19, 92, 22, 92, 40, 72, 58, 75, 29, 67, 59, 76, 43, 96, 20, 78, 56, 94, 25, 70, 64, 83, 42, 82, 24, 69, 41, 70, 39, 87, 61, 91, 44, 86, 49, 95, 27, 77, 33, 81, 33, 74, 48, 90, 55, 79, 51, 88, 46, 71, 31, 69, 18, 90, 41, 73, 54, 81, 49, 91, 62, 67, 58, 92, 63, 98, 21, 84, 49, 67, 51, 78, 42, 98, 64, 98, 54, 74, 17, 96, 28, 79, 27, 95, 56, 82, 19, 97, 43, 67, 30, 100, 28, 96, 30, 92, 26, 96, 52, 75, 50, 78, 27, 98, 58, 67, 14, 91, 45, 94, 22, 67, 34, 92, 14, 85, 17, 100, 27, 91, 22, 74, 22, 98, 39, 87, 46, 67, 46, 95, 36, 97, 23, 77, 42, 98, 35, 86, 18, 94, 50, 78, 36, 99, 59, 93, 58, 67, 30, 76, 27, 69, 30, 89, 22, 89, 13, 67, 36, 83, 32, 79, 61, 79, 62, 94, 53, 80, 38, 73, 40, 80, 33, 65, 45, 75, 47, 72, 27, 79, 27, 71, 28, 66, 27, 87, 37, 98, 44, 81, 37, 97, 60, 86, 32, 75, 51, 95, 20, 77, 46, 65, 35, 73, 43, 67, 42, 74, 51, 96, 48, 83, 27, 75, 53, 66, 25, 94, 56, 93, 55, 68, 22, 93, 49, 78, 57, 69, 41, 71, 18, 79, 46, 95, 32, 81, 63, 95, 15, 68, 41, 99, 63, 66, 25, 72, 21, 70, 47, 83, 22, 87, 41, 98, 13, 92, 64, 71, 25, 76, 19, 70, 49, 75, 29, 91, 54, 77, 63, 79, 46, 75, 29, 93, 26, 83, 63, 89, 13, 84, 27, 96, 26, 95, 36, 68, 25, 85, 36, 72, 20, 92, 51, 98, 57, 75, 33, 84, 29, 93, 24, 83, 24, 93, 42, 75, 34, 92, 54, 85, 25, 91, 39, 93, 59, 69, 41, 68, 58, 79, 23, 66, 31, 79, 57, 91, 52, 81, 25, 85, 16, 88, 13, 86, 34, 82, 47, 91, 43, 93, 35, 95, 21, 77, 23, 82, 17, 92, 62, 71, 23, 94, 18, 68, 48, 92, 53, 77, 57, 85, 35, 97, 49, 76, 59, 96, 63, 82, 19, 83, 54, 88, 46, 82, 61, 93, 13, 73, 21, 88, 30, 97, 38, 76, 42, 76, 47, 94, 47, 77, 13, 87, 45, 75, 41, 69, 43, 79, 28, 99, 45, 90, 27, 75, 19, 81, 33, 78, 48, 75, 29, 72, 54, 95, 62, 91, 23, 73, 39, 65, 55, 81, 53, 84, 23, 67, 40, 68, 13, 78, 41, 74, 48, 91, 31, 97, 63, 70, 26, 71]\n"
     ]
    }
   ],
   "source": [
    "print([i for i in training_samples])"
   ]
  },
  {
   "cell_type": "code",
   "execution_count": 20,
   "metadata": {},
   "outputs": [
    {
     "name": "stdout",
     "output_type": "stream",
     "text": [
      "[1, 0, 1, 0, 1, 0, 1, 0, 1, 0, 1, 0, 1, 0, 1, 0, 1, 0, 1, 0, 1, 0, 1, 0, 1, 0, 1, 0, 1, 0, 1, 0, 1, 0, 1, 0, 1, 0, 1, 0, 1, 0, 1, 0, 1, 0, 1, 0, 1, 0, 1, 0, 1, 0, 1, 0, 1, 0, 1, 0, 1, 0, 1, 0, 1, 0, 1, 0, 1, 0, 1, 0, 1, 0, 1, 0, 1, 0, 1, 0, 1, 0, 1, 0, 1, 0, 1, 0, 1, 0, 1, 0, 1, 0, 1, 0, 1, 0, 1, 0, 0, 1, 0, 1, 0, 1, 0, 1, 0, 1, 0, 1, 0, 1, 0, 1, 0, 1, 0, 1, 0, 1, 0, 1, 0, 1, 0, 1, 0, 1, 0, 1, 0, 1, 0, 1, 0, 1, 0, 1, 0, 1, 0, 1, 0, 1, 0, 1, 0, 1, 0, 1, 0, 1, 0, 1, 0, 1, 0, 1, 0, 1, 0, 1, 0, 1, 0, 1, 0, 1, 0, 1, 0, 1, 0, 1, 0, 1, 0, 1, 0, 1, 0, 1, 0, 1, 0, 1, 0, 1, 0, 1, 0, 1, 0, 1, 0, 1, 0, 1, 0, 1, 0, 1, 0, 1, 0, 1, 0, 1, 0, 1, 0, 1, 0, 1, 0, 1, 0, 1, 0, 1, 0, 1, 0, 1, 0, 1, 0, 1, 0, 1, 0, 1, 0, 1, 0, 1, 0, 1, 0, 1, 0, 1, 0, 1, 0, 1, 0, 1, 0, 1, 0, 1, 0, 1, 0, 1, 0, 1, 0, 1, 0, 1, 0, 1, 0, 1, 0, 1, 0, 1, 0, 1, 0, 1, 0, 1, 0, 1, 0, 1, 0, 1, 0, 1, 0, 1, 0, 1, 0, 1, 0, 1, 0, 1, 0, 1, 0, 1, 0, 1, 0, 1, 0, 1, 0, 1, 0, 1, 0, 1, 0, 1, 0, 1, 0, 1, 0, 1, 0, 1, 0, 1, 0, 1, 0, 1, 0, 1, 0, 1, 0, 1, 0, 1, 0, 1, 0, 1, 0, 1, 0, 1, 0, 1, 0, 1, 0, 1, 0, 1, 0, 1, 0, 1, 0, 1, 0, 1, 0, 1, 0, 1, 0, 1, 0, 1, 0, 1, 0, 1, 0, 1, 0, 1, 0, 1, 0, 1, 0, 1, 0, 1, 0, 1, 0, 1, 0, 1, 0, 1, 0, 1, 0, 1, 0, 1, 0, 1, 0, 1, 0, 1, 0, 1, 0, 1, 0, 1, 0, 1, 0, 1, 0, 1, 0, 1, 0, 1, 0, 1, 0, 1, 0, 1, 0, 1, 0, 1, 0, 1, 0, 1, 0, 1, 0, 1, 0, 1, 0, 1, 0, 1, 0, 1, 0, 1, 0, 1, 0, 1, 0, 1, 0, 1, 0, 1, 0, 1, 0, 1, 0, 1, 0, 1, 0, 1, 0, 1, 0, 1, 0, 1, 0, 1, 0, 1, 0, 1, 0, 1, 0, 1, 0, 1, 0, 1, 0, 1, 0, 1, 0, 1, 0, 1, 0, 1, 0, 1, 0, 1, 0, 1, 0, 1, 0, 1, 0, 1, 0, 1, 0, 1, 0, 1, 0, 1, 0, 1, 0, 1, 0, 1, 0, 1, 0, 1, 0, 1, 0, 1, 0, 1, 0, 1, 0, 1, 0, 1, 0, 1, 0, 1, 0, 1, 0, 1, 0, 1, 0, 1, 0, 1, 0, 1, 0, 1, 0, 1, 0, 1, 0, 1, 0, 1, 0, 1, 0, 1, 0, 1, 0, 1, 0, 1, 0, 1, 0, 1, 0, 1, 0, 1, 0, 1, 0, 1, 0, 1, 0, 1, 0, 1, 0, 1, 0, 1, 0, 1, 0, 1, 0, 1, 0, 1, 0, 1, 0, 1, 0, 1, 0, 1, 0, 1, 0, 1, 0, 1, 0, 1, 0, 1, 0, 1, 0, 1, 0, 1, 0, 1, 0, 1, 0, 1, 0, 1, 0, 1, 0, 1, 0, 1, 0, 1, 0, 1, 0, 1, 0, 1, 0, 1, 0, 1, 0, 1, 0, 1, 0, 1, 0, 1, 0, 1, 0, 1, 0, 1, 0, 1, 0, 1, 0, 1, 0, 1, 0, 1, 0, 1, 0, 1, 0, 1, 0, 1, 0, 1, 0, 1, 0, 1, 0, 1, 0, 1, 0, 1, 0, 1, 0, 1, 0, 1, 0, 1, 0, 1, 0, 1, 0, 1, 0, 1, 0, 1, 0, 1, 0, 1, 0, 1, 0, 1, 0, 1, 0, 1, 0, 1, 0, 1, 0, 1, 0, 1, 0, 1, 0, 1, 0, 1, 0, 1, 0, 1, 0, 1, 0, 1, 0, 1, 0, 1, 0, 1, 0, 1, 0, 1, 0, 1, 0, 1, 0, 1, 0, 1, 0, 1, 0, 1, 0, 1, 0, 1, 0, 1, 0, 1, 0, 1, 0, 1, 0, 1, 0, 1, 0, 1, 0, 1, 0, 1, 0, 1, 0, 1, 0, 1, 0, 1, 0, 1, 0, 1, 0, 1, 0, 1, 0, 1, 0, 1, 0, 1, 0, 1, 0, 1, 0, 1, 0, 1, 0, 1, 0, 1, 0, 1, 0, 1, 0, 1, 0, 1, 0, 1, 0, 1, 0, 1, 0, 1, 0, 1, 0, 1, 0, 1, 0, 1, 0, 1, 0, 1, 0, 1, 0, 1, 0, 1, 0, 1, 0, 1, 0, 1, 0, 1, 0, 1, 0, 1, 0, 1, 0, 1, 0, 1, 0, 1, 0, 1, 0, 1, 0, 1, 0, 1, 0, 1, 0, 1, 0, 1, 0, 1, 0, 1, 0, 1, 0, 1, 0, 1, 0, 1, 0, 1, 0, 1, 0, 1, 0, 1, 0, 1, 0, 1, 0, 1, 0, 1, 0, 1, 0, 1, 0, 1, 0, 1, 0, 1, 0, 1, 0, 1, 0, 1, 0, 1, 0, 1, 0, 1, 0, 1, 0, 1, 0, 1, 0, 1, 0, 1, 0, 1, 0, 1, 0, 1, 0, 1, 0, 1, 0, 1, 0, 1, 0, 1, 0, 1, 0, 1, 0, 1, 0, 1, 0, 1, 0, 1, 0, 1, 0, 1, 0, 1, 0, 1, 0, 1, 0, 1, 0, 1, 0, 1, 0, 1, 0, 1, 0, 1, 0, 1, 0, 1, 0, 1, 0, 1, 0, 1, 0, 1, 0, 1, 0, 1, 0, 1, 0, 1, 0, 1, 0, 1, 0, 1, 0, 1, 0, 1, 0, 1, 0, 1, 0, 1, 0, 1, 0, 1, 0, 1, 0, 1, 0, 1, 0, 1, 0, 1, 0, 1, 0, 1, 0, 1, 0, 1, 0, 1, 0, 1, 0, 1, 0, 1, 0, 1, 0, 1, 0, 1, 0, 1, 0, 1, 0, 1, 0, 1, 0, 1, 0, 1, 0, 1, 0, 1, 0, 1, 0, 1, 0, 1, 0, 1, 0, 1, 0, 1, 0, 1, 0, 1, 0, 1, 0, 1, 0, 1, 0, 1, 0, 1, 0, 1, 0, 1, 0, 1, 0, 1, 0, 1, 0, 1, 0, 1, 0, 1, 0, 1, 0, 1, 0, 1, 0, 1, 0, 1, 0, 1, 0, 1, 0, 1, 0, 1, 0, 1, 0, 1, 0, 1, 0, 1, 0, 1, 0, 1, 0, 1, 0, 1, 0, 1, 0, 1, 0, 1, 0, 1, 0, 1, 0, 1, 0, 1, 0, 1, 0, 1, 0, 1, 0, 1, 0, 1, 0, 1, 0, 1, 0, 1, 0, 1, 0, 1, 0, 1, 0, 1, 0, 1, 0, 1, 0, 1, 0, 1, 0, 1, 0, 1, 0, 1, 0, 1, 0, 1, 0, 1, 0, 1, 0, 1, 0, 1, 0, 1, 0, 1, 0, 1, 0, 1, 0, 1, 0, 1, 0, 1, 0, 1, 0, 1, 0, 1, 0, 1, 0, 1, 0, 1, 0, 1, 0, 1, 0, 1, 0, 1, 0, 1, 0, 1, 0, 1, 0, 1, 0, 1, 0, 1, 0, 1, 0, 1, 0, 1, 0, 1, 0, 1, 0, 1, 0, 1, 0, 1, 0, 1, 0, 1, 0, 1, 0, 1, 0, 1, 0, 1, 0, 1, 0, 1, 0, 1, 0, 1, 0, 1, 0, 1, 0, 1, 0, 1, 0, 1, 0, 1, 0, 1, 0, 1, 0, 1, 0, 1, 0, 1, 0, 1, 0, 1, 0, 1, 0, 1, 0, 1, 0, 1, 0, 1, 0, 1, 0, 1, 0, 1, 0, 1, 0, 1, 0, 1, 0, 1, 0, 1, 0, 1, 0, 1, 0, 1, 0, 1, 0, 1, 0, 1, 0, 1, 0, 1, 0, 1, 0, 1, 0, 1, 0, 1, 0, 1, 0, 1, 0, 1, 0, 1, 0, 1, 0, 1, 0, 1, 0, 1, 0, 1, 0, 1, 0, 1, 0, 1, 0, 1, 0, 1, 0, 1, 0, 1, 0, 1, 0, 1, 0, 1, 0, 1, 0, 1, 0, 1, 0, 1, 0, 1, 0, 1, 0, 1, 0, 1, 0, 1, 0, 1, 0, 1, 0, 1, 0, 1, 0, 1, 0, 1, 0, 1, 0, 1, 0, 1, 0, 1, 0, 1, 0, 1, 0, 1, 0, 1, 0, 1, 0, 1, 0, 1, 0, 1, 0, 1, 0, 1, 0, 1, 0, 1, 0, 1, 0, 1, 0, 1, 0, 1, 0, 1, 0, 1, 0, 1, 0, 1, 0, 1, 0, 1, 0, 1, 0, 1, 0, 1, 0, 1, 0, 1, 0, 1, 0, 1, 0, 1, 0, 1, 0, 1, 0, 1, 0, 1, 0, 1, 0, 1, 0, 1, 0, 1, 0, 1, 0, 1, 0, 1, 0, 1, 0, 1, 0, 1, 0, 1, 0, 1, 0, 1, 0, 1, 0, 1, 0, 1, 0, 1, 0, 1, 0, 1, 0, 1, 0, 1, 0, 1, 0, 1, 0, 1, 0, 1, 0, 1, 0, 1, 0, 1, 0, 1, 0, 1, 0, 1, 0, 1, 0, 1, 0, 1, 0, 1, 0, 1, 0, 1, 0, 1, 0, 1, 0, 1, 0, 1, 0, 1, 0, 1, 0, 1, 0, 1, 0, 1, 0, 1, 0, 1, 0, 1, 0, 1, 0, 1, 0, 1, 0, 1, 0, 1, 0, 1, 0, 1, 0, 1, 0, 1, 0, 1, 0, 1, 0, 1, 0, 1, 0, 1, 0, 1, 0, 1, 0, 1, 0, 1, 0, 1, 0, 1, 0, 1, 0, 1, 0, 1, 0, 1, 0, 1, 0, 1, 0, 1, 0, 1, 0, 1, 0, 1, 0, 1, 0, 1, 0, 1, 0, 1, 0, 1, 0, 1, 0, 1, 0, 1, 0, 1, 0, 1, 0, 1, 0, 1, 0, 1, 0, 1, 0, 1, 0, 1, 0, 1, 0, 1, 0, 1, 0, 1, 0, 1, 0, 1, 0, 1, 0, 1, 0, 1, 0, 1, 0, 1, 0, 1, 0, 1, 0, 1, 0, 1, 0, 1, 0, 1, 0, 1, 0, 1, 0, 1, 0, 1, 0, 1, 0, 1, 0, 1, 0, 1, 0, 1, 0, 1, 0, 1, 0, 1, 0, 1, 0, 1, 0, 1, 0, 1, 0, 1, 0, 1, 0, 1, 0, 1, 0, 1, 0, 1, 0, 1, 0, 1, 0, 1, 0, 1, 0, 1, 0, 1, 0, 1, 0, 1, 0, 1, 0, 1, 0, 1, 0, 1, 0, 1, 0, 1, 0, 1, 0, 1, 0, 1, 0, 1, 0, 1, 0, 1, 0, 1, 0, 1, 0, 1, 0, 1, 0, 1, 0, 1, 0, 1, 0, 1, 0, 1, 0, 1, 0, 1, 0, 1, 0, 1, 0, 1, 0, 1, 0, 1, 0, 1, 0, 1, 0, 1, 0, 1, 0, 1, 0, 1, 0, 1, 0, 1, 0, 1, 0, 1, 0, 1, 0, 1, 0, 1, 0, 1, 0, 1, 0, 1, 0, 1, 0, 1, 0, 1, 0, 1, 0, 1, 0, 1, 0, 1, 0, 1, 0, 1, 0, 1, 0, 1, 0, 1, 0, 1, 0, 1, 0, 1, 0, 1, 0, 1, 0, 1, 0, 1, 0, 1, 0, 1, 0, 1, 0, 1, 0, 1, 0, 1, 0, 1, 0, 1, 0, 1, 0, 1, 0, 1, 0, 1, 0, 1, 0, 1, 0, 1, 0, 1, 0, 1, 0, 1, 0, 1, 0, 1, 0, 1, 0, 1, 0, 1, 0, 1, 0, 1, 0, 1, 0, 1, 0, 1, 0, 1, 0, 1, 0, 1, 0, 1, 0, 1, 0, 1, 0, 1, 0, 1, 0, 1, 0, 1, 0, 1, 0, 1, 0, 1, 0, 1, 0, 1, 0, 1, 0, 1, 0, 1, 0, 1, 0, 1, 0, 1, 0, 1, 0, 1, 0, 1, 0, 1, 0, 1, 0, 1, 0, 1, 0, 1, 0, 1, 0, 1, 0, 1, 0, 1, 0, 1, 0, 1, 0, 1, 0, 1, 0, 1, 0, 1, 0, 1, 0, 1, 0, 1, 0, 1, 0, 1, 0, 1, 0, 1, 0, 1, 0, 1]\n"
     ]
    }
   ],
   "source": [
    "print([i for i in training_labels])"
   ]
  },
  {
   "cell_type": "code",
   "execution_count": 21,
   "metadata": {},
   "outputs": [],
   "source": [
    "training_samples=np.array(training_samples)\n",
    "training_labels=np.array(training_labels)"
   ]
  },
  {
   "cell_type": "code",
   "execution_count": 24,
   "metadata": {},
   "outputs": [],
   "source": [
    "scaler=MinMaxScaler(feature_range=(0,1))\n",
    "scaler_trainingsamples=scaler.fit_transform(training_samples.reshape(-1,1))"
   ]
  },
  {
   "cell_type": "code",
   "execution_count": 25,
   "metadata": {},
   "outputs": [
    {
     "data": {
      "text/plain": [
       "array([[0.01149425],\n",
       "       [0.77011494],\n",
       "       [0.26436782],\n",
       "       ...,\n",
       "       [0.65517241],\n",
       "       [0.14942529],\n",
       "       [0.66666667]])"
      ]
     },
     "execution_count": 25,
     "metadata": {},
     "output_type": "execute_result"
    }
   ],
   "source": [
    "scaler_trainingsamples"
   ]
  },
  {
   "cell_type": "code",
   "execution_count": 46,
   "metadata": {},
   "outputs": [],
   "source": [
    "from sklearn.model_selection import train_test_split"
   ]
  },
  {
   "cell_type": "code",
   "execution_count": 47,
   "metadata": {},
   "outputs": [],
   "source": [
    "xtrain,xtest,ytrain,ytest=train_test_split(scaler_trainingsamples,training_labels,test_size=0.25,random_state=0)"
   ]
  },
  {
   "cell_type": "code",
   "execution_count": 49,
   "metadata": {},
   "outputs": [
    {
     "data": {
      "text/plain": [
       "((1575, 1), (525, 1))"
      ]
     },
     "execution_count": 49,
     "metadata": {},
     "output_type": "execute_result"
    }
   ],
   "source": [
    "xtrain.shape,xtest.shape"
   ]
  },
  {
   "cell_type": "code",
   "execution_count": 26,
   "metadata": {},
   "outputs": [],
   "source": [
    "import tensorflow as tf\n",
    "from tensorflow import keras\n",
    "from tensorflow.keras.models import Sequential\n",
    "from tensorflow.keras.layers import Dense,Activation\n",
    "from tensorflow.keras.optimizers import Adam\n",
    "from tensorflow.keras.metrics import categorical_crossentropy"
   ]
  },
  {
   "cell_type": "code",
   "execution_count": 27,
   "metadata": {},
   "outputs": [
    {
     "name": "stdout",
     "output_type": "stream",
     "text": [
      "num of GPU Devices:1\n"
     ]
    }
   ],
   "source": [
    "physical_devices=tf.config.experimental.list_physical_devices('GPU')\n",
    "print('num of GPU Devices:{}'.format(len(physical_devices)))"
   ]
  },
  {
   "cell_type": "code",
   "execution_count": 28,
   "metadata": {},
   "outputs": [],
   "source": [
    "tf.config.experimental.set_memory_growth(physical_devices[0],True)"
   ]
  },
  {
   "cell_type": "code",
   "execution_count": 29,
   "metadata": {},
   "outputs": [],
   "source": [
    "model=Sequential([\n",
    "    Dense(units=16,input_shape=(1,),activation='relu'),\n",
    "    Dense(units=32,activation='relu'),\n",
    "    Dense(units=2,activation='softmax'),\n",
    "        \n",
    "])"
   ]
  },
  {
   "cell_type": "code",
   "execution_count": 30,
   "metadata": {},
   "outputs": [
    {
     "name": "stdout",
     "output_type": "stream",
     "text": [
      "Model: \"sequential\"\n",
      "_________________________________________________________________\n",
      "Layer (type)                 Output Shape              Param #   \n",
      "=================================================================\n",
      "dense (Dense)                (None, 16)                32        \n",
      "_________________________________________________________________\n",
      "dense_1 (Dense)              (None, 32)                544       \n",
      "_________________________________________________________________\n",
      "dense_2 (Dense)              (None, 2)                 66        \n",
      "=================================================================\n",
      "Total params: 642\n",
      "Trainable params: 642\n",
      "Non-trainable params: 0\n",
      "_________________________________________________________________\n"
     ]
    }
   ],
   "source": [
    "model.summary()"
   ]
  },
  {
   "cell_type": "code",
   "execution_count": 32,
   "metadata": {},
   "outputs": [],
   "source": [
    "model.compile(Adam(learning_rate=0.0001),loss='sparse_categorical_crossentropy',metrics=['accuracy'])"
   ]
  },
  {
   "cell_type": "code",
   "execution_count": 50,
   "metadata": {},
   "outputs": [
    {
     "name": "stdout",
     "output_type": "stream",
     "text": [
      "Train on 1417 samples, validate on 158 samples\n",
      "Epoch 1/40\n",
      "1417/1417 - 2s - loss: 0.2229 - accuracy: 0.9506 - val_loss: 0.2492 - val_accuracy: 0.9304\n",
      "Epoch 2/40\n",
      "1417/1417 - 1s - loss: 0.2226 - accuracy: 0.9506 - val_loss: 0.2492 - val_accuracy: 0.9304\n",
      "Epoch 3/40\n",
      "1417/1417 - 1s - loss: 0.2224 - accuracy: 0.9492 - val_loss: 0.2491 - val_accuracy: 0.9304\n",
      "Epoch 4/40\n",
      "1417/1417 - 1s - loss: 0.2221 - accuracy: 0.9506 - val_loss: 0.2493 - val_accuracy: 0.9304\n",
      "Epoch 5/40\n",
      "1417/1417 - 1s - loss: 0.2218 - accuracy: 0.9478 - val_loss: 0.2490 - val_accuracy: 0.9304\n",
      "Epoch 6/40\n",
      "1417/1417 - 1s - loss: 0.2217 - accuracy: 0.9506 - val_loss: 0.2490 - val_accuracy: 0.9304\n",
      "Epoch 7/40\n",
      "1417/1417 - 1s - loss: 0.2214 - accuracy: 0.9506 - val_loss: 0.2491 - val_accuracy: 0.9304\n",
      "Epoch 8/40\n",
      "1417/1417 - 1s - loss: 0.2213 - accuracy: 0.9506 - val_loss: 0.2489 - val_accuracy: 0.9304\n",
      "Epoch 9/40\n",
      "1417/1417 - 1s - loss: 0.2212 - accuracy: 0.9506 - val_loss: 0.2492 - val_accuracy: 0.9304\n",
      "Epoch 10/40\n",
      "1417/1417 - 1s - loss: 0.2210 - accuracy: 0.9506 - val_loss: 0.2490 - val_accuracy: 0.9304\n",
      "Epoch 11/40\n",
      "1417/1417 - 1s - loss: 0.2209 - accuracy: 0.9506 - val_loss: 0.2491 - val_accuracy: 0.9304\n",
      "Epoch 12/40\n",
      "1417/1417 - 1s - loss: 0.2207 - accuracy: 0.9506 - val_loss: 0.2491 - val_accuracy: 0.9304\n",
      "Epoch 13/40\n",
      "1417/1417 - 1s - loss: 0.2205 - accuracy: 0.9506 - val_loss: 0.2488 - val_accuracy: 0.9304\n",
      "Epoch 14/40\n",
      "1417/1417 - 1s - loss: 0.2204 - accuracy: 0.9485 - val_loss: 0.2488 - val_accuracy: 0.9304\n",
      "Epoch 15/40\n",
      "1417/1417 - 1s - loss: 0.2202 - accuracy: 0.9506 - val_loss: 0.2484 - val_accuracy: 0.9304\n",
      "Epoch 16/40\n",
      "1417/1417 - 1s - loss: 0.2202 - accuracy: 0.9506 - val_loss: 0.2492 - val_accuracy: 0.9304\n",
      "Epoch 17/40\n",
      "1417/1417 - 1s - loss: 0.2200 - accuracy: 0.9506 - val_loss: 0.2486 - val_accuracy: 0.9304\n",
      "Epoch 18/40\n",
      "1417/1417 - 1s - loss: 0.2199 - accuracy: 0.9506 - val_loss: 0.2485 - val_accuracy: 0.9304\n",
      "Epoch 19/40\n",
      "1417/1417 - 1s - loss: 0.2197 - accuracy: 0.9506 - val_loss: 0.2489 - val_accuracy: 0.9304\n",
      "Epoch 20/40\n",
      "1417/1417 - 1s - loss: 0.2196 - accuracy: 0.9506 - val_loss: 0.2483 - val_accuracy: 0.9304\n",
      "Epoch 21/40\n",
      "1417/1417 - 1s - loss: 0.2195 - accuracy: 0.9506 - val_loss: 0.2483 - val_accuracy: 0.9304\n",
      "Epoch 22/40\n",
      "1417/1417 - 1s - loss: 0.2193 - accuracy: 0.9506 - val_loss: 0.2484 - val_accuracy: 0.9304\n",
      "Epoch 23/40\n",
      "1417/1417 - 1s - loss: 0.2192 - accuracy: 0.9506 - val_loss: 0.2486 - val_accuracy: 0.9304\n",
      "Epoch 24/40\n",
      "1417/1417 - 1s - loss: 0.2192 - accuracy: 0.9506 - val_loss: 0.2485 - val_accuracy: 0.9304\n",
      "Epoch 25/40\n",
      "1417/1417 - 1s - loss: 0.2190 - accuracy: 0.9506 - val_loss: 0.2482 - val_accuracy: 0.9304\n",
      "Epoch 26/40\n",
      "1417/1417 - 1s - loss: 0.2188 - accuracy: 0.9506 - val_loss: 0.2480 - val_accuracy: 0.9304\n",
      "Epoch 27/40\n",
      "1417/1417 - 1s - loss: 0.2188 - accuracy: 0.9506 - val_loss: 0.2480 - val_accuracy: 0.9304\n",
      "Epoch 28/40\n",
      "1417/1417 - 1s - loss: 0.2187 - accuracy: 0.9506 - val_loss: 0.2482 - val_accuracy: 0.9304\n",
      "Epoch 29/40\n",
      "1417/1417 - 1s - loss: 0.2185 - accuracy: 0.9506 - val_loss: 0.2481 - val_accuracy: 0.9304\n",
      "Epoch 30/40\n",
      "1417/1417 - 1s - loss: 0.2184 - accuracy: 0.9506 - val_loss: 0.2479 - val_accuracy: 0.9304\n",
      "Epoch 31/40\n",
      "1417/1417 - 1s - loss: 0.2184 - accuracy: 0.9506 - val_loss: 0.2484 - val_accuracy: 0.9304\n",
      "Epoch 32/40\n",
      "1417/1417 - 1s - loss: 0.2184 - accuracy: 0.9506 - val_loss: 0.2478 - val_accuracy: 0.9304\n",
      "Epoch 33/40\n",
      "1417/1417 - 1s - loss: 0.2181 - accuracy: 0.9506 - val_loss: 0.2479 - val_accuracy: 0.9304\n",
      "Epoch 34/40\n",
      "1417/1417 - 1s - loss: 0.2182 - accuracy: 0.9506 - val_loss: 0.2477 - val_accuracy: 0.9304\n",
      "Epoch 35/40\n",
      "1417/1417 - 1s - loss: 0.2178 - accuracy: 0.9520 - val_loss: 0.2483 - val_accuracy: 0.9304\n",
      "Epoch 36/40\n",
      "1417/1417 - 1s - loss: 0.2178 - accuracy: 0.9506 - val_loss: 0.2481 - val_accuracy: 0.9304\n",
      "Epoch 37/40\n",
      "1417/1417 - 1s - loss: 0.2176 - accuracy: 0.9506 - val_loss: 0.2476 - val_accuracy: 0.9304\n",
      "Epoch 38/40\n",
      "1417/1417 - 1s - loss: 0.2176 - accuracy: 0.9506 - val_loss: 0.2473 - val_accuracy: 0.9304\n",
      "Epoch 39/40\n",
      "1417/1417 - 1s - loss: 0.2174 - accuracy: 0.9506 - val_loss: 0.2475 - val_accuracy: 0.9304\n",
      "Epoch 40/40\n",
      "1417/1417 - 1s - loss: 0.2173 - accuracy: 0.9506 - val_loss: 0.2473 - val_accuracy: 0.9304\n"
     ]
    }
   ],
   "source": [
    "history=model.fit(x=xtrain,y=ytrain,batch_size=10,epochs=40,\\\n",
    "                  validation_split=0.1,shuffle=True,verbose=2)"
   ]
  },
  {
   "cell_type": "code",
   "execution_count": 53,
   "metadata": {},
   "outputs": [],
   "source": [
    "import matplotlib.pyplot as plt\n",
    "import seaborn as sns"
   ]
  },
  {
   "cell_type": "code",
   "execution_count": 54,
   "metadata": {},
   "outputs": [
    {
     "data": {
      "image/png": "[encoded data removed]",
      "text/plain": [
       "<Figure size 432x288 with 1 Axes>"
      ]
     },
     "metadata": {
      "needs_background": "light"
     },
     "output_type": "display_data"
    }
   ],
   "source": [
    "plt.plot(history.history['accuracy'],label='Traing Accuracy')\n",
    "plt.plot(history.history['val_accuracy'],label='Validation Accuracy')\n",
    "plt.title('Training Accuracy vs Validation Accuracy')\n",
    "plt.xlabel('# epochs')\n",
    "plt.ylabel('Accuracy')\n",
    "plt.legend()\n",
    "plt.show()"
   ]
  },
  {
   "cell_type": "code",
   "execution_count": 55,
   "metadata": {},
   "outputs": [
    {
     "data": {
      "image/png": "[encoded data removed]",
      "text/plain": [
       "<Figure size 432x288 with 1 Axes>"
      ]
     },
     "metadata": {
      "needs_background": "light"
     },
     "output_type": "display_data"
    }
   ],
   "source": [
    "plt.plot(history.history['loss'],label='Traing loss')\n",
    "plt.plot(history.history['val_loss'],label='Validation loss')\n",
    "plt.title('Training loss vs Validation loss')\n",
    "plt.xlabel('# epochs')\n",
    "plt.ylabel('Accuracy')\n",
    "plt.legend()\n",
    "plt.show()"
   ]
  },
  {
   "cell_type": "code",
   "execution_count": 52,
   "metadata": {},
   "outputs": [],
   "source": [
    "from sklearn.metrics import accuracy_score,confusion_matrix,classification_report"
   ]
  },
  {
   "cell_type": "code",
   "execution_count": 71,
   "metadata": {},
   "outputs": [],
   "source": [
    "ypred=np.argmax(model.predict(xtest),axis=1)"
   ]
  },
  {
   "cell_type": "code",
   "execution_count": 72,
   "metadata": {},
   "outputs": [
    {
     "data": {
      "text/plain": [
       "0.9276190476190476"
      ]
     },
     "execution_count": 72,
     "metadata": {},
     "output_type": "execute_result"
    }
   ],
   "source": [
    "accuracy_score(ytest,ypred)"
   ]
  },
  {
   "cell_type": "code",
   "execution_count": 74,
   "metadata": {},
   "outputs": [
    {
     "name": "stdout",
     "output_type": "stream",
     "text": [
      "              precision    recall  f1-score   support\n",
      "\n",
      "           0       0.94      0.92      0.93       260\n",
      "           1       0.92      0.94      0.93       265\n",
      "\n",
      "    accuracy                           0.93       525\n",
      "   macro avg       0.93      0.93      0.93       525\n",
      "weighted avg       0.93      0.93      0.93       525\n",
      "\n"
     ]
    }
   ],
   "source": [
    "print(classification_report(ytest,ypred))"
   ]
  },
  {
   "cell_type": "code",
   "execution_count": 76,
   "metadata": {},
   "outputs": [
    {
     "data": {
      "text/plain": [
       "<matplotlib.axes._subplots.AxesSubplot at 0x260ea43ee80>"
      ]
     },
     "execution_count": 76,
     "metadata": {},
     "output_type": "execute_result"
    },
    {
     "data": {
      "image/png": "[encoded data removed]",
      "text/plain": [
       "<Figure size 432x288 with 2 Axes>"
      ]
     },
     "metadata": {
      "needs_background": "light"
     },
     "output_type": "display_data"
    }
   ],
   "source": [
    "sns.heatmap(confusion_matrix(ytest,ypred),annot=True,cmap='GnBu',fmt='d')"
   ]
  },
  {
   "cell_type": "code",
   "execution_count": null,
   "metadata": {},
   "outputs": [],
   "source": []
  }
 ],
 "metadata": {
  "kernelspec": {
   "display_name": "Python 3",
   "language": "python",
   "name": "python3"
  },
  "language_info": {
   "codemirror_mode": {
    "name": "ipython",
    "version": 3
   },
   "file_extension": ".py",
   "mimetype": "text/x-python",
   "name": "python",
   "nbconvert_exporter": "python",
   "pygments_lexer": "ipython3",
   "version": "3.6.10"
  }
 },
 "nbformat": 4,
 "nbformat_minor": 4
}
