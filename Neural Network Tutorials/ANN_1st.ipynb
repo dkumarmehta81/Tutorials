{
 "cells": [
  {
   "cell_type": "code",
   "execution_count": 50,
   "metadata": {},
   "outputs": [],
   "source": [
    "import numpy as np\n",
    "from random import randint\n",
    "from sklearn.utils import shuffle\n",
    "from sklearn.preprocessing import MinMaxScaler\n",
    "import itertools"
   ]
  },
  {
   "cell_type": "code",
   "execution_count": 2,
   "metadata": {},
   "outputs": [],
   "source": [
    "training_samples=[]\n",
    "training_labels=[]"
   ]
  },
  {
   "cell_type": "code",
   "execution_count": 3,
   "metadata": {},
   "outputs": [],
   "source": [
    "for i in range(50):\n",
    "    random_younger=randint(13,64)\n",
    "    training_samples.append(random_younger)\n",
    "    training_labels.append(1)\n",
    "    \n",
    "    random_older=randint(65,100)\n",
    "    training_samples.append(random_older)\n",
    "    training_labels.append(0)\n"
   ]
  },
  {
   "cell_type": "code",
   "execution_count": 4,
   "metadata": {},
   "outputs": [
    {
     "data": {
      "text/plain": [
       "array([ 34,  70,  30,  88,  34,  74,  53,  94,  35,  92,  56,  80,  37,\n",
       "        73,  33,  91,  38,  66,  49,  65,  20,  84,  15,  69,  27,  84,\n",
       "        61,  89,  34,  66,  56,  96,  29,  65,  44,  66,  34,  92,  32,\n",
       "        92,  36,  73,  15,  96,  36,  85,  42,  86,  48,  83,  14, 100,\n",
       "        60,  73,  60,  96,  31,  91,  20,  84,  53,  82,  22,  85,  33,\n",
       "        81,  54,  92,  51,  71,  36,  86,  50,  85,  20,  82,  29,  79,\n",
       "        21,  68,  44,  75,  56,  72,  57,  90,  41,  96,  36,  86,  16,\n",
       "        82,  52,  69,  40,  94,  34,  68,  43,  87])"
      ]
     },
     "execution_count": 4,
     "metadata": {},
     "output_type": "execute_result"
    }
   ],
   "source": [
    "np.transpose(training_samples)"
   ]
  },
  {
   "cell_type": "code",
   "execution_count": 5,
   "metadata": {},
   "outputs": [
    {
     "data": {
      "text/plain": [
       "array([1, 0, 1, 0, 1, 0, 1, 0, 1, 0, 1, 0, 1, 0, 1, 0, 1, 0, 1, 0, 1, 0,\n",
       "       1, 0, 1, 0, 1, 0, 1, 0, 1, 0, 1, 0, 1, 0, 1, 0, 1, 0, 1, 0, 1, 0,\n",
       "       1, 0, 1, 0, 1, 0, 1, 0, 1, 0, 1, 0, 1, 0, 1, 0, 1, 0, 1, 0, 1, 0,\n",
       "       1, 0, 1, 0, 1, 0, 1, 0, 1, 0, 1, 0, 1, 0, 1, 0, 1, 0, 1, 0, 1, 0,\n",
       "       1, 0, 1, 0, 1, 0, 1, 0, 1, 0, 1, 0])"
      ]
     },
     "execution_count": 5,
     "metadata": {},
     "output_type": "execute_result"
    }
   ],
   "source": [
    "np.transpose(training_labels)"
   ]
  },
  {
   "cell_type": "code",
   "execution_count": 6,
   "metadata": {},
   "outputs": [],
   "source": [
    "for i in range(1000):\n",
    "    random_younger=randint(13,64)\n",
    "    training_samples.append(random_younger)\n",
    "    training_labels.append(0)\n",
    "    \n",
    "    random_older=randint(65,100)\n",
    "    training_samples.append(random_older)\n",
    "    training_labels.append(1)\n",
    "    "
   ]
  },
  {
   "cell_type": "code",
   "execution_count": 7,
   "metadata": {},
   "outputs": [
    {
     "name": "stdout",
     "output_type": "stream",
     "text": [
      "[34, 70, 30, 88, 34, 74, 53, 94, 35, 92, 56, 80, 37, 73, 33, 91, 38, 66, 49, 65, 20, 84, 15, 69, 27, 84, 61, 89, 34, 66, 56, 96, 29, 65, 44, 66, 34, 92, 32, 92, 36, 73, 15, 96, 36, 85, 42, 86, 48, 83, 14, 100, 60, 73, 60, 96, 31, 91, 20, 84, 53, 82, 22, 85, 33, 81, 54, 92, 51, 71, 36, 86, 50, 85, 20, 82, 29, 79, 21, 68, 44, 75, 56, 72, 57, 90, 41, 96, 36, 86, 16, 82, 52, 69, 40, 94, 34, 68, 43, 87, 13, 100, 26, 90, 63, 83, 49, 73, 17, 80, 39, 83, 40, 94, 58, 93, 59, 92, 49, 86, 52, 96, 29, 92, 16, 72, 60, 89, 64, 87, 54, 86, 21, 77, 24, 80, 28, 90, 21, 77, 30, 71, 20, 92, 15, 94, 64, 83, 63, 65, 30, 74, 63, 97, 35, 76, 53, 72, 37, 65, 63, 81, 16, 98, 45, 97, 36, 91, 36, 74, 57, 65, 38, 77, 48, 72, 52, 80, 27, 80, 50, 100, 30, 89, 38, 69, 25, 98, 63, 86, 34, 92, 17, 100, 54, 75, 28, 94, 48, 97, 39, 75, 32, 71, 60, 66, 34, 69, 63, 96, 59, 84, 51, 68, 57, 86, 22, 86, 26, 100, 16, 75, 35, 91, 42, 73, 26, 79, 40, 94, 49, 82, 59, 96, 14, 90, 33, 93, 14, 86, 57, 71, 63, 81, 36, 77, 43, 96, 18, 87, 60, 87, 40, 67, 27, 71, 50, 71, 47, 88, 29, 73, 23, 96, 59, 97, 36, 89, 22, 96, 31, 98, 61, 98, 51, 99, 35, 83, 45, 78, 33, 100, 53, 84, 30, 70, 16, 77, 37, 99, 57, 80, 37, 77, 25, 72, 45, 87, 56, 66, 55, 84, 40, 84, 36, 91, 17, 68, 17, 72, 35, 84, 47, 82, 32, 100, 50, 96, 30, 66, 23, 91, 20, 83, 56, 77, 55, 93, 47, 82, 52, 97, 58, 91, 23, 88, 25, 71, 29, 85, 54, 88, 22, 79, 50, 92, 42, 89, 31, 73, 30, 78, 58, 97, 46, 98, 55, 75, 29, 69, 25, 77, 57, 75, 18, 85, 19, 71, 16, 73, 13, 91, 33, 97, 30, 91, 58, 99, 46, 88, 34, 67, 32, 87, 15, 84, 21, 71, 19, 73, 61, 76, 45, 89, 43, 66, 63, 98, 20, 89, 63, 73, 56, 99, 33, 74, 30, 93, 26, 86, 60, 99, 22, 89, 51, 94, 28, 73, 17, 73, 47, 98, 42, 65, 19, 84, 39, 68, 39, 97, 20, 76, 42, 92, 58, 94, 19, 84, 13, 74, 16, 100, 38, 78, 46, 80, 17, 98, 28, 78, 55, 70, 27, 93, 50, 83, 40, 88, 13, 66, 45, 82, 35, 66, 25, 95, 28, 85, 36, 65, 37, 76, 52, 88, 19, 76, 23, 67, 45, 76, 40, 74, 17, 84, 60, 87, 61, 96, 46, 81, 16, 86, 25, 98, 34, 91, 31, 97, 17, 67, 63, 86, 34, 95, 58, 95, 53, 86, 50, 95, 56, 69, 17, 76, 29, 80, 55, 92, 41, 72, 33, 85, 41, 83, 63, 69, 16, 99, 53, 88, 63, 71, 56, 66, 23, 66, 50, 67, 25, 83, 33, 88, 42, 96, 53, 100, 58, 97, 57, 78, 19, 74, 32, 76, 38, 76, 46, 91, 31, 70, 50, 92, 32, 95, 31, 86, 40, 98, 24, 99, 32, 100, 41, 77, 26, 98, 38, 88, 30, 69, 37, 90, 47, 70, 14, 81, 28, 88, 44, 88, 62, 81, 60, 80, 45, 88, 42, 69, 20, 65, 63, 93, 57, 87, 32, 85, 62, 93, 49, 74, 16, 70, 15, 98, 34, 93, 18, 73, 15, 76, 42, 80, 19, 67, 22, 67, 35, 92, 29, 87, 24, 96, 17, 65, 45, 66, 58, 100, 34, 75, 63, 97, 43, 100, 57, 100, 50, 89, 14, 66, 34, 95, 47, 76, 61, 92, 44, 93, 46, 69, 57, 69, 16, 91, 23, 97, 43, 97, 63, 78, 21, 76, 47, 70, 30, 94, 50, 99, 52, 97, 44, 99, 54, 72, 29, 97, 54, 78, 30, 92, 37, 93, 31, 88, 50, 83, 56, 91, 44, 77, 48, 87, 28, 85, 48, 95, 57, 84, 28, 88, 36, 72, 51, 95, 30, 88, 31, 85, 18, 76, 46, 85, 48, 99, 54, 93, 53, 72, 22, 95, 35, 87, 46, 91, 45, 67, 41, 90, 37, 85, 17, 90, 23, 92, 29, 73, 17, 91, 27, 77, 39, 82, 16, 88, 39, 84, 19, 98, 64, 91, 44, 72, 22, 84, 39, 87, 54, 91, 49, 80, 23, 93, 48, 72, 49, 79, 42, 68, 63, 88, 61, 100, 39, 100, 48, 84, 24, 91, 26, 95, 45, 95, 54, 91, 60, 96, 42, 79, 60, 100, 43, 91, 20, 82, 32, 94, 51, 70, 59, 93, 61, 68, 28, 94, 43, 80, 33, 92, 48, 79, 60, 66, 61, 76, 47, 95, 15, 99, 49, 94, 16, 82, 15, 83, 52, 73, 26, 78, 39, 90, 23, 93, 38, 100, 37, 85, 31, 70, 38, 83, 30, 66, 24, 87, 34, 89, 45, 89, 30, 92, 25, 93, 51, 66, 41, 96, 33, 67, 17, 79, 25, 85, 30, 71, 25, 83, 42, 93, 57, 85, 14, 91, 41, 75, 61, 98, 29, 72, 52, 95, 46, 99, 36, 73, 47, 70, 34, 74, 57, 76, 34, 95, 56, 88, 61, 77, 21, 79, 19, 86, 47, 90, 36, 90, 18, 80, 23, 81, 40, 95, 17, 86, 51, 69, 35, 83, 29, 88, 53, 85, 37, 75, 64, 88, 38, 79, 43, 88, 45, 95, 32, 75, 29, 89, 49, 95, 49, 76, 42, 86, 40, 79, 48, 74, 50, 70, 18, 94, 47, 70, 41, 72, 34, 86, 27, 73, 51, 85, 41, 70, 15, 87, 28, 71, 20, 65, 17, 98, 46, 86, 24, 90, 57, 73, 15, 69, 28, 94, 45, 83, 21, 66, 43, 67, 44, 75, 13, 73, 17, 94, 25, 96, 29, 86, 29, 98, 35, 88, 53, 77, 29, 73, 33, 83, 49, 68, 41, 94, 49, 67, 57, 77, 27, 80, 59, 83, 34, 73, 34, 88, 30, 90, 44, 89, 57, 67, 28, 88, 21, 100, 23, 79, 58, 90, 34, 83, 18, 87, 22, 76, 59, 94, 63, 91, 31, 83, 39, 96, 41, 86, 21, 73, 46, 72, 55, 98, 51, 78, 46, 70, 44, 86, 21, 82, 26, 83, 55, 97, 14, 75, 63, 89, 23, 85, 59, 87, 55, 92, 13, 72, 41, 82, 64, 77, 26, 71, 56, 73, 41, 92, 39, 82, 62, 98, 20, 74, 56, 96, 41, 66, 23, 74, 63, 81, 59, 83, 64, 83, 30, 73, 17, 85, 56, 69, 43, 100, 16, 98, 31, 68, 45, 99, 26, 74, 33, 75, 64, 87, 42, 95, 33, 70, 52, 66, 48, 83, 64, 80, 59, 94, 52, 83, 50, 82, 53, 65, 27, 95, 41, 79, 34, 74, 25, 77, 26, 72, 24, 89, 39, 95, 61, 89, 34, 97, 58, 85, 17, 70, 32, 72, 29, 82, 61, 94, 27, 79, 17, 98, 23, 79, 19, 99, 46, 79, 31, 80, 31, 76, 30, 93, 64, 78, 61, 65, 64, 100, 32, 85, 54, 78, 53, 99, 59, 77, 42, 81, 20, 86, 64, 88, 39, 99, 40, 70, 55, 95, 15, 74, 35, 97, 58, 95, 30, 70, 39, 85, 48, 67, 62, 70, 38, 90, 38, 92, 45, 76, 36, 70, 51, 87, 60, 94, 37, 73, 30, 68, 56, 81, 32, 76, 46, 87, 49, 79, 57, 85, 31, 70, 45, 99, 38, 65, 59, 75, 60, 67, 27, 94, 61, 84, 13, 71, 40, 65, 14, 92, 21, 81, 53, 73, 28, 96, 22, 94, 60, 86, 46, 94, 24, 79, 47, 98, 13, 84, 45, 69, 24, 67, 51, 77, 42, 81, 24, 87, 43, 67, 30, 78, 24, 96, 33, 82, 28, 80, 36, 98, 49, 84, 20, 94, 64, 72, 51, 72, 63, 66, 54, 84, 28, 94, 48, 78, 54, 98, 40, 99, 48, 96, 28, 85, 33, 69, 42, 78, 34, 80, 23, 90, 18, 88, 39, 87, 53, 77, 48, 94, 14, 90, 13, 84, 38, 93, 40, 69, 24, 87, 32, 69, 34, 94, 54, 66, 46, 92, 46, 96, 26, 98, 48, 88, 38, 81, 56, 95, 23, 70, 64, 91, 40, 71, 25, 67, 14, 68, 29, 88, 49, 83, 30, 73, 23, 74, 60, 100, 40, 96, 26, 89, 51, 73, 45, 85, 37, 68, 58, 79, 62, 92, 40, 69, 47, 82, 23, 82, 22, 89, 52, 86, 56, 88, 19, 65, 21, 65, 64, 69, 13, 80, 64, 83, 37, 97, 56, 74, 63, 93, 51, 100, 28, 95, 29, 100, 47, 81, 27, 92, 39, 91, 27, 80, 28, 74, 26, 71, 58, 83, 34, 83, 42, 68, 52, 94, 57, 77, 20, 69, 34, 100, 44, 78, 55, 82, 61, 75, 24, 87, 61, 82, 41, 66, 32, 83, 39, 84, 21, 73, 21, 76, 40, 68, 17, 66, 24, 87, 41, 95, 20, 94, 60, 79, 27, 83, 41, 93, 47, 74, 52, 67, 42, 91, 25, 97, 51, 93, 50, 79, 19, 69, 21, 70, 19, 73, 18, 72, 37, 82, 27, 88, 23, 88, 30, 75, 31, 75, 50, 71, 25, 83, 41, 91, 42, 84, 23, 70, 35, 81, 35, 75, 35, 92, 26, 77, 56, 95, 28, 86, 24, 67, 64, 82, 48, 89, 22, 88, 35, 97, 52, 72, 24, 98, 53, 66, 54, 97, 42, 66, 44, 89, 29, 73, 43, 95, 15, 91, 29, 96, 39, 77, 45, 72, 48, 71, 39, 78, 50, 70, 28, 66, 24, 88, 46, 99, 27, 91, 38, 73, 42, 67, 35, 93, 57, 98, 39, 70, 45, 70, 32, 84, 32, 72, 60, 94, 13, 87, 40, 84, 22, 92, 46, 97, 15, 90, 16, 86, 13, 83, 21, 65, 55, 84, 47, 79, 51, 82, 31, 69, 48, 82, 25, 80, 34, 73, 13, 93, 35, 87, 28, 85, 18, 98, 46, 72, 58, 82, 23, 88, 53, 73, 18, 78, 48, 66, 30, 76, 33, 96, 22, 84, 49, 100, 18, 77, 14, 91, 37, 71, 42, 89, 53, 75, 22, 94, 21, 88, 16, 69, 46, 73, 45, 98, 32, 86, 44, 87, 48, 94, 17, 70, 48, 74, 17, 72, 56, 74, 32, 77, 16, 74, 33, 89, 49, 85, 15, 90, 50, 79, 46, 98, 16, 66, 50, 74, 18, 96, 36, 99, 25, 88, 39, 96, 53, 66, 22, 86, 42, 85, 54, 69, 47, 78, 64, 95, 36, 78, 59, 68, 41, 77, 38, 69, 60, 78, 13, 90, 18, 74, 21, 98, 39, 95, 47, 93, 64, 83, 28, 76, 60, 98, 26, 82, 35, 80, 32, 75, 18, 79, 63, 85, 56, 84, 39, 91, 43, 89, 32, 95, 39, 70, 31, 82, 30, 75, 27, 81, 19, 65, 34, 94, 36, 77, 35, 90, 26, 96, 52, 69, 46, 96, 20, 92, 18, 92, 13, 84, 46, 93, 23, 99, 41, 74, 52, 66, 23, 65, 36, 72, 64, 91, 24, 72, 25, 92, 45, 65, 21, 93, 35, 79, 22, 69, 19, 66, 49, 73, 13, 85, 45, 69, 50, 90, 24, 81, 15, 75, 29, 67, 38, 69, 43, 86, 29, 83, 21, 76, 20, 91, 24, 98, 45, 93, 13, 69, 41, 70, 47, 72, 13, 67, 38, 77, 29, 88, 17, 89, 56, 72, 30, 90, 31, 90, 33, 93, 33, 74, 32, 81, 24, 77, 37, 84, 29, 91, 28, 82, 51, 68, 13, 82, 48, 70, 55, 72, 41, 98, 15, 89, 15, 99, 26, 85, 38, 84, 23, 98, 36, 81, 57, 82, 57, 85, 62, 74, 60, 75, 27, 69, 40, 80, 24, 69, 35, 89, 56, 79, 61, 67, 19, 71, 50, 72, 22, 66, 41, 98, 37, 69, 30, 99, 54, 99, 56, 67, 53, 74, 48, 99, 54, 69, 22, 72, 32, 75, 38, 73, 45, 66, 27, 99, 39, 89, 61, 94, 57, 70, 62, 91, 47, 74, 13, 91, 17, 93, 42, 77, 36, 67, 28, 87, 32, 97, 43, 76, 60, 98, 15, 95, 24, 71, 19, 94, 50, 67, 45, 78, 45, 79, 61, 85, 13, 75, 33, 92, 64, 66, 60, 93, 55, 88, 16, 82, 38, 97, 56, 70, 31, 71, 19, 74, 44, 80, 54, 83, 40, 97, 20, 93, 31, 66, 34, 65, 25, 65, 22, 94, 56, 79, 34, 98, 19, 80, 18, 67, 13, 92, 63, 83, 52, 96, 20, 79]\n"
     ]
    }
   ],
   "source": [
    "print([i for i in training_samples])"
   ]
  },
  {
   "cell_type": "code",
   "execution_count": 8,
   "metadata": {},
   "outputs": [
    {
     "name": "stdout",
     "output_type": "stream",
     "text": [
      "[1, 0, 1, 0, 1, 0, 1, 0, 1, 0, 1, 0, 1, 0, 1, 0, 1, 0, 1, 0, 1, 0, 1, 0, 1, 0, 1, 0, 1, 0, 1, 0, 1, 0, 1, 0, 1, 0, 1, 0, 1, 0, 1, 0, 1, 0, 1, 0, 1, 0, 1, 0, 1, 0, 1, 0, 1, 0, 1, 0, 1, 0, 1, 0, 1, 0, 1, 0, 1, 0, 1, 0, 1, 0, 1, 0, 1, 0, 1, 0, 1, 0, 1, 0, 1, 0, 1, 0, 1, 0, 1, 0, 1, 0, 1, 0, 1, 0, 1, 0, 0, 1, 0, 1, 0, 1, 0, 1, 0, 1, 0, 1, 0, 1, 0, 1, 0, 1, 0, 1, 0, 1, 0, 1, 0, 1, 0, 1, 0, 1, 0, 1, 0, 1, 0, 1, 0, 1, 0, 1, 0, 1, 0, 1, 0, 1, 0, 1, 0, 1, 0, 1, 0, 1, 0, 1, 0, 1, 0, 1, 0, 1, 0, 1, 0, 1, 0, 1, 0, 1, 0, 1, 0, 1, 0, 1, 0, 1, 0, 1, 0, 1, 0, 1, 0, 1, 0, 1, 0, 1, 0, 1, 0, 1, 0, 1, 0, 1, 0, 1, 0, 1, 0, 1, 0, 1, 0, 1, 0, 1, 0, 1, 0, 1, 0, 1, 0, 1, 0, 1, 0, 1, 0, 1, 0, 1, 0, 1, 0, 1, 0, 1, 0, 1, 0, 1, 0, 1, 0, 1, 0, 1, 0, 1, 0, 1, 0, 1, 0, 1, 0, 1, 0, 1, 0, 1, 0, 1, 0, 1, 0, 1, 0, 1, 0, 1, 0, 1, 0, 1, 0, 1, 0, 1, 0, 1, 0, 1, 0, 1, 0, 1, 0, 1, 0, 1, 0, 1, 0, 1, 0, 1, 0, 1, 0, 1, 0, 1, 0, 1, 0, 1, 0, 1, 0, 1, 0, 1, 0, 1, 0, 1, 0, 1, 0, 1, 0, 1, 0, 1, 0, 1, 0, 1, 0, 1, 0, 1, 0, 1, 0, 1, 0, 1, 0, 1, 0, 1, 0, 1, 0, 1, 0, 1, 0, 1, 0, 1, 0, 1, 0, 1, 0, 1, 0, 1, 0, 1, 0, 1, 0, 1, 0, 1, 0, 1, 0, 1, 0, 1, 0, 1, 0, 1, 0, 1, 0, 1, 0, 1, 0, 1, 0, 1, 0, 1, 0, 1, 0, 1, 0, 1, 0, 1, 0, 1, 0, 1, 0, 1, 0, 1, 0, 1, 0, 1, 0, 1, 0, 1, 0, 1, 0, 1, 0, 1, 0, 1, 0, 1, 0, 1, 0, 1, 0, 1, 0, 1, 0, 1, 0, 1, 0, 1, 0, 1, 0, 1, 0, 1, 0, 1, 0, 1, 0, 1, 0, 1, 0, 1, 0, 1, 0, 1, 0, 1, 0, 1, 0, 1, 0, 1, 0, 1, 0, 1, 0, 1, 0, 1, 0, 1, 0, 1, 0, 1, 0, 1, 0, 1, 0, 1, 0, 1, 0, 1, 0, 1, 0, 1, 0, 1, 0, 1, 0, 1, 0, 1, 0, 1, 0, 1, 0, 1, 0, 1, 0, 1, 0, 1, 0, 1, 0, 1, 0, 1, 0, 1, 0, 1, 0, 1, 0, 1, 0, 1, 0, 1, 0, 1, 0, 1, 0, 1, 0, 1, 0, 1, 0, 1, 0, 1, 0, 1, 0, 1, 0, 1, 0, 1, 0, 1, 0, 1, 0, 1, 0, 1, 0, 1, 0, 1, 0, 1, 0, 1, 0, 1, 0, 1, 0, 1, 0, 1, 0, 1, 0, 1, 0, 1, 0, 1, 0, 1, 0, 1, 0, 1, 0, 1, 0, 1, 0, 1, 0, 1, 0, 1, 0, 1, 0, 1, 0, 1, 0, 1, 0, 1, 0, 1, 0, 1, 0, 1, 0, 1, 0, 1, 0, 1, 0, 1, 0, 1, 0, 1, 0, 1, 0, 1, 0, 1, 0, 1, 0, 1, 0, 1, 0, 1, 0, 1, 0, 1, 0, 1, 0, 1, 0, 1, 0, 1, 0, 1, 0, 1, 0, 1, 0, 1, 0, 1, 0, 1, 0, 1, 0, 1, 0, 1, 0, 1, 0, 1, 0, 1, 0, 1, 0, 1, 0, 1, 0, 1, 0, 1, 0, 1, 0, 1, 0, 1, 0, 1, 0, 1, 0, 1, 0, 1, 0, 1, 0, 1, 0, 1, 0, 1, 0, 1, 0, 1, 0, 1, 0, 1, 0, 1, 0, 1, 0, 1, 0, 1, 0, 1, 0, 1, 0, 1, 0, 1, 0, 1, 0, 1, 0, 1, 0, 1, 0, 1, 0, 1, 0, 1, 0, 1, 0, 1, 0, 1, 0, 1, 0, 1, 0, 1, 0, 1, 0, 1, 0, 1, 0, 1, 0, 1, 0, 1, 0, 1, 0, 1, 0, 1, 0, 1, 0, 1, 0, 1, 0, 1, 0, 1, 0, 1, 0, 1, 0, 1, 0, 1, 0, 1, 0, 1, 0, 1, 0, 1, 0, 1, 0, 1, 0, 1, 0, 1, 0, 1, 0, 1, 0, 1, 0, 1, 0, 1, 0, 1, 0, 1, 0, 1, 0, 1, 0, 1, 0, 1, 0, 1, 0, 1, 0, 1, 0, 1, 0, 1, 0, 1, 0, 1, 0, 1, 0, 1, 0, 1, 0, 1, 0, 1, 0, 1, 0, 1, 0, 1, 0, 1, 0, 1, 0, 1, 0, 1, 0, 1, 0, 1, 0, 1, 0, 1, 0, 1, 0, 1, 0, 1, 0, 1, 0, 1, 0, 1, 0, 1, 0, 1, 0, 1, 0, 1, 0, 1, 0, 1, 0, 1, 0, 1, 0, 1, 0, 1, 0, 1, 0, 1, 0, 1, 0, 1, 0, 1, 0, 1, 0, 1, 0, 1, 0, 1, 0, 1, 0, 1, 0, 1, 0, 1, 0, 1, 0, 1, 0, 1, 0, 1, 0, 1, 0, 1, 0, 1, 0, 1, 0, 1, 0, 1, 0, 1, 0, 1, 0, 1, 0, 1, 0, 1, 0, 1, 0, 1, 0, 1, 0, 1, 0, 1, 0, 1, 0, 1, 0, 1, 0, 1, 0, 1, 0, 1, 0, 1, 0, 1, 0, 1, 0, 1, 0, 1, 0, 1, 0, 1, 0, 1, 0, 1, 0, 1, 0, 1, 0, 1, 0, 1, 0, 1, 0, 1, 0, 1, 0, 1, 0, 1, 0, 1, 0, 1, 0, 1, 0, 1, 0, 1, 0, 1, 0, 1, 0, 1, 0, 1, 0, 1, 0, 1, 0, 1, 0, 1, 0, 1, 0, 1, 0, 1, 0, 1, 0, 1, 0, 1, 0, 1, 0, 1, 0, 1, 0, 1, 0, 1, 0, 1, 0, 1, 0, 1, 0, 1, 0, 1, 0, 1, 0, 1, 0, 1, 0, 1, 0, 1, 0, 1, 0, 1, 0, 1, 0, 1, 0, 1, 0, 1, 0, 1, 0, 1, 0, 1, 0, 1, 0, 1, 0, 1, 0, 1, 0, 1, 0, 1, 0, 1, 0, 1, 0, 1, 0, 1, 0, 1, 0, 1, 0, 1, 0, 1, 0, 1, 0, 1, 0, 1, 0, 1, 0, 1, 0, 1, 0, 1, 0, 1, 0, 1, 0, 1, 0, 1, 0, 1, 0, 1, 0, 1, 0, 1, 0, 1, 0, 1, 0, 1, 0, 1, 0, 1, 0, 1, 0, 1, 0, 1, 0, 1, 0, 1, 0, 1, 0, 1, 0, 1, 0, 1, 0, 1, 0, 1, 0, 1, 0, 1, 0, 1, 0, 1, 0, 1, 0, 1, 0, 1, 0, 1, 0, 1, 0, 1, 0, 1, 0, 1, 0, 1, 0, 1, 0, 1, 0, 1, 0, 1, 0, 1, 0, 1, 0, 1, 0, 1, 0, 1, 0, 1, 0, 1, 0, 1, 0, 1, 0, 1, 0, 1, 0, 1, 0, 1, 0, 1, 0, 1, 0, 1, 0, 1, 0, 1, 0, 1, 0, 1, 0, 1, 0, 1, 0, 1, 0, 1, 0, 1, 0, 1, 0, 1, 0, 1, 0, 1, 0, 1, 0, 1, 0, 1, 0, 1, 0, 1, 0, 1, 0, 1, 0, 1, 0, 1, 0, 1, 0, 1, 0, 1, 0, 1, 0, 1, 0, 1, 0, 1, 0, 1, 0, 1, 0, 1, 0, 1, 0, 1, 0, 1, 0, 1, 0, 1, 0, 1, 0, 1, 0, 1, 0, 1, 0, 1, 0, 1, 0, 1, 0, 1, 0, 1, 0, 1, 0, 1, 0, 1, 0, 1, 0, 1, 0, 1, 0, 1, 0, 1, 0, 1, 0, 1, 0, 1, 0, 1, 0, 1, 0, 1, 0, 1, 0, 1, 0, 1, 0, 1, 0, 1, 0, 1, 0, 1, 0, 1, 0, 1, 0, 1, 0, 1, 0, 1, 0, 1, 0, 1, 0, 1, 0, 1, 0, 1, 0, 1, 0, 1, 0, 1, 0, 1, 0, 1, 0, 1, 0, 1, 0, 1, 0, 1, 0, 1, 0, 1, 0, 1, 0, 1, 0, 1, 0, 1, 0, 1, 0, 1, 0, 1, 0, 1, 0, 1, 0, 1, 0, 1, 0, 1, 0, 1, 0, 1, 0, 1, 0, 1, 0, 1, 0, 1, 0, 1, 0, 1, 0, 1, 0, 1, 0, 1, 0, 1, 0, 1, 0, 1, 0, 1, 0, 1, 0, 1, 0, 1, 0, 1, 0, 1, 0, 1, 0, 1, 0, 1, 0, 1, 0, 1, 0, 1, 0, 1, 0, 1, 0, 1, 0, 1, 0, 1, 0, 1, 0, 1, 0, 1, 0, 1, 0, 1, 0, 1, 0, 1, 0, 1, 0, 1, 0, 1, 0, 1, 0, 1, 0, 1, 0, 1, 0, 1, 0, 1, 0, 1, 0, 1, 0, 1, 0, 1, 0, 1, 0, 1, 0, 1, 0, 1, 0, 1, 0, 1, 0, 1, 0, 1, 0, 1, 0, 1, 0, 1, 0, 1, 0, 1, 0, 1, 0, 1, 0, 1, 0, 1, 0, 1, 0, 1, 0, 1, 0, 1, 0, 1, 0, 1, 0, 1, 0, 1, 0, 1, 0, 1, 0, 1, 0, 1, 0, 1, 0, 1, 0, 1, 0, 1, 0, 1, 0, 1, 0, 1, 0, 1, 0, 1, 0, 1, 0, 1, 0, 1, 0, 1, 0, 1, 0, 1, 0, 1, 0, 1, 0, 1, 0, 1, 0, 1, 0, 1, 0, 1, 0, 1, 0, 1, 0, 1, 0, 1, 0, 1, 0, 1, 0, 1, 0, 1, 0, 1, 0, 1, 0, 1, 0, 1, 0, 1, 0, 1, 0, 1, 0, 1, 0, 1, 0, 1, 0, 1, 0, 1, 0, 1, 0, 1, 0, 1, 0, 1, 0, 1, 0, 1, 0, 1, 0, 1, 0, 1, 0, 1, 0, 1, 0, 1, 0, 1, 0, 1, 0, 1, 0, 1, 0, 1, 0, 1, 0, 1, 0, 1, 0, 1, 0, 1, 0, 1, 0, 1, 0, 1, 0, 1, 0, 1, 0, 1, 0, 1, 0, 1, 0, 1, 0, 1, 0, 1, 0, 1, 0, 1, 0, 1, 0, 1, 0, 1, 0, 1, 0, 1, 0, 1, 0, 1, 0, 1, 0, 1, 0, 1, 0, 1, 0, 1, 0, 1, 0, 1, 0, 1, 0, 1, 0, 1, 0, 1, 0, 1, 0, 1, 0, 1, 0, 1, 0, 1, 0, 1, 0, 1, 0, 1, 0, 1, 0, 1, 0, 1, 0, 1, 0, 1, 0, 1, 0, 1, 0, 1, 0, 1, 0, 1, 0, 1, 0, 1, 0, 1, 0, 1, 0, 1, 0, 1, 0, 1, 0, 1, 0, 1, 0, 1, 0, 1, 0, 1, 0, 1, 0, 1, 0, 1, 0, 1, 0, 1, 0, 1, 0, 1, 0, 1, 0, 1, 0, 1, 0, 1, 0, 1, 0, 1, 0, 1, 0, 1, 0, 1, 0, 1, 0, 1, 0, 1, 0, 1, 0, 1, 0, 1, 0, 1, 0, 1, 0, 1, 0, 1, 0, 1, 0, 1, 0, 1, 0, 1, 0, 1, 0, 1, 0, 1, 0, 1, 0, 1, 0, 1, 0, 1, 0, 1, 0, 1, 0, 1, 0, 1, 0, 1, 0, 1, 0, 1, 0, 1, 0, 1, 0, 1, 0, 1, 0, 1, 0, 1, 0, 1, 0, 1, 0, 1, 0, 1, 0, 1, 0, 1, 0, 1, 0, 1, 0, 1, 0, 1, 0, 1, 0, 1, 0, 1, 0, 1, 0, 1, 0, 1, 0, 1, 0, 1, 0, 1, 0, 1, 0, 1, 0, 1, 0, 1, 0, 1, 0, 1, 0, 1, 0, 1, 0, 1, 0, 1, 0, 1, 0, 1, 0, 1, 0, 1, 0, 1, 0, 1, 0, 1, 0, 1, 0, 1, 0, 1, 0, 1, 0, 1, 0, 1, 0, 1, 0, 1, 0, 1, 0, 1, 0, 1, 0, 1, 0, 1, 0, 1, 0, 1, 0, 1, 0, 1, 0, 1, 0, 1, 0, 1, 0, 1, 0, 1, 0, 1, 0, 1, 0, 1, 0, 1]\n"
     ]
    }
   ],
   "source": [
    "print([i for i in training_labels])"
   ]
  },
  {
   "cell_type": "code",
   "execution_count": 9,
   "metadata": {},
   "outputs": [],
   "source": [
    "training_samples=np.array(training_samples)\n",
    "training_labels=np.array(training_labels)"
   ]
  },
  {
   "cell_type": "code",
   "execution_count": 10,
   "metadata": {},
   "outputs": [],
   "source": [
    "scaler=MinMaxScaler(feature_range=(0,1))\n",
    "scaler_trainingsamples=scaler.fit_transform(training_samples.reshape(-1,1))"
   ]
  },
  {
   "cell_type": "code",
   "execution_count": 11,
   "metadata": {},
   "outputs": [
    {
     "data": {
      "text/plain": [
       "array([[0.24137931],\n",
       "       [0.65517241],\n",
       "       [0.1954023 ],\n",
       "       ...,\n",
       "       [0.95402299],\n",
       "       [0.08045977],\n",
       "       [0.75862069]])"
      ]
     },
     "execution_count": 11,
     "metadata": {},
     "output_type": "execute_result"
    }
   ],
   "source": [
    "scaler_trainingsamples"
   ]
  },
  {
   "cell_type": "code",
   "execution_count": 12,
   "metadata": {},
   "outputs": [],
   "source": [
    "from sklearn.model_selection import train_test_split"
   ]
  },
  {
   "cell_type": "code",
   "execution_count": 13,
   "metadata": {},
   "outputs": [],
   "source": [
    "xtrain,xtest,ytrain,ytest=train_test_split(scaler_trainingsamples,training_labels,test_size=0.25,random_state=0)"
   ]
  },
  {
   "cell_type": "code",
   "execution_count": 14,
   "metadata": {},
   "outputs": [
    {
     "data": {
      "text/plain": [
       "((1575, 1), (525, 1))"
      ]
     },
     "execution_count": 14,
     "metadata": {},
     "output_type": "execute_result"
    }
   ],
   "source": [
    "xtrain.shape,xtest.shape"
   ]
  },
  {
   "cell_type": "code",
   "execution_count": 15,
   "metadata": {},
   "outputs": [],
   "source": [
    "import tensorflow as tf\n",
    "from tensorflow import keras\n",
    "from tensorflow.keras.models import Sequential\n",
    "from tensorflow.keras.layers import Dense,Activation\n",
    "from tensorflow.keras.optimizers import Adam\n",
    "from tensorflow.keras.metrics import categorical_crossentropy"
   ]
  },
  {
   "cell_type": "code",
   "execution_count": 16,
   "metadata": {},
   "outputs": [
    {
     "name": "stdout",
     "output_type": "stream",
     "text": [
      "num of GPU Devices:1\n"
     ]
    }
   ],
   "source": [
    "physical_devices=tf.config.experimental.list_physical_devices('GPU')\n",
    "print('num of GPU Devices:{}'.format(len(physical_devices)))"
   ]
  },
  {
   "cell_type": "code",
   "execution_count": 17,
   "metadata": {},
   "outputs": [],
   "source": [
    "tf.config.experimental.set_memory_growth(physical_devices[0],True)"
   ]
  },
  {
   "cell_type": "code",
   "execution_count": 18,
   "metadata": {},
   "outputs": [],
   "source": [
    "model=Sequential([\n",
    "    Dense(units=16,input_shape=(1,),activation='relu'),\n",
    "    Dense(units=32,activation='relu'),\n",
    "    Dense(units=2,activation='softmax'),\n",
    "        \n",
    "])"
   ]
  },
  {
   "cell_type": "code",
   "execution_count": 19,
   "metadata": {},
   "outputs": [
    {
     "name": "stdout",
     "output_type": "stream",
     "text": [
      "Model: \"sequential\"\n",
      "_________________________________________________________________\n",
      "Layer (type)                 Output Shape              Param #   \n",
      "=================================================================\n",
      "dense (Dense)                (None, 16)                32        \n",
      "_________________________________________________________________\n",
      "dense_1 (Dense)              (None, 32)                544       \n",
      "_________________________________________________________________\n",
      "dense_2 (Dense)              (None, 2)                 66        \n",
      "=================================================================\n",
      "Total params: 642\n",
      "Trainable params: 642\n",
      "Non-trainable params: 0\n",
      "_________________________________________________________________\n"
     ]
    }
   ],
   "source": [
    "model.summary()"
   ]
  },
  {
   "cell_type": "code",
   "execution_count": 20,
   "metadata": {},
   "outputs": [],
   "source": [
    "model.compile(Adam(learning_rate=0.0001),loss='sparse_categorical_crossentropy',metrics=['accuracy'])"
   ]
  },
  {
   "cell_type": "code",
   "execution_count": 21,
   "metadata": {},
   "outputs": [
    {
     "name": "stdout",
     "output_type": "stream",
     "text": [
      "Train on 1417 samples, validate on 158 samples\n",
      "Epoch 1/40\n",
      "1417/1417 - 4s - loss: 0.8421 - accuracy: 0.4707 - val_loss: 0.8068 - val_accuracy: 0.4304\n",
      "Epoch 2/40\n",
      "1417/1417 - 1s - loss: 0.7862 - accuracy: 0.4001 - val_loss: 0.7594 - val_accuracy: 0.3671\n",
      "Epoch 3/40\n",
      "1417/1417 - 1s - loss: 0.7435 - accuracy: 0.3105 - val_loss: 0.7252 - val_accuracy: 0.2532\n",
      "Epoch 4/40\n",
      "1417/1417 - 1s - loss: 0.7126 - accuracy: 0.1856 - val_loss: 0.6982 - val_accuracy: 0.4494\n",
      "Epoch 5/40\n",
      "1417/1417 - 1s - loss: 0.6850 - accuracy: 0.4989 - val_loss: 0.6723 - val_accuracy: 0.4937\n",
      "Epoch 6/40\n",
      "1417/1417 - 1s - loss: 0.6597 - accuracy: 0.5547 - val_loss: 0.6511 - val_accuracy: 0.6203\n",
      "Epoch 7/40\n",
      "1417/1417 - 1s - loss: 0.6405 - accuracy: 0.6175 - val_loss: 0.6339 - val_accuracy: 0.6329\n",
      "Epoch 8/40\n",
      "1417/1417 - 1s - loss: 0.6225 - accuracy: 0.6634 - val_loss: 0.6161 - val_accuracy: 0.6962\n",
      "Epoch 9/40\n",
      "1417/1417 - 1s - loss: 0.6039 - accuracy: 0.7057 - val_loss: 0.5986 - val_accuracy: 0.7278\n",
      "Epoch 10/40\n",
      "1417/1417 - 1s - loss: 0.5863 - accuracy: 0.7241 - val_loss: 0.5820 - val_accuracy: 0.7532\n",
      "Epoch 11/40\n",
      "1417/1417 - 1s - loss: 0.5693 - accuracy: 0.7466 - val_loss: 0.5657 - val_accuracy: 0.7468\n",
      "Epoch 12/40\n",
      "1417/1417 - 1s - loss: 0.5521 - accuracy: 0.7699 - val_loss: 0.5491 - val_accuracy: 0.7532\n",
      "Epoch 13/40\n",
      "1417/1417 - 1s - loss: 0.5350 - accuracy: 0.7833 - val_loss: 0.5328 - val_accuracy: 0.7532\n",
      "Epoch 14/40\n",
      "1417/1417 - 1s - loss: 0.5180 - accuracy: 0.8059 - val_loss: 0.5168 - val_accuracy: 0.7975\n",
      "Epoch 15/40\n",
      "1417/1417 - 1s - loss: 0.5014 - accuracy: 0.8158 - val_loss: 0.5010 - val_accuracy: 0.8038\n",
      "Epoch 16/40\n",
      "1417/1417 - 1s - loss: 0.4849 - accuracy: 0.8356 - val_loss: 0.4855 - val_accuracy: 0.8101\n",
      "Epoch 17/40\n",
      "1417/1417 - 1s - loss: 0.4688 - accuracy: 0.8447 - val_loss: 0.4703 - val_accuracy: 0.8418\n",
      "Epoch 18/40\n",
      "1417/1417 - 1s - loss: 0.4530 - accuracy: 0.8567 - val_loss: 0.4556 - val_accuracy: 0.8481\n",
      "Epoch 19/40\n",
      "1417/1417 - 1s - loss: 0.4377 - accuracy: 0.8624 - val_loss: 0.4414 - val_accuracy: 0.8544\n",
      "Epoch 20/40\n",
      "1417/1417 - 1s - loss: 0.4229 - accuracy: 0.8716 - val_loss: 0.4277 - val_accuracy: 0.8608\n",
      "Epoch 21/40\n",
      "1417/1417 - 1s - loss: 0.4088 - accuracy: 0.8786 - val_loss: 0.4148 - val_accuracy: 0.8734\n",
      "Epoch 22/40\n",
      "1417/1417 - 1s - loss: 0.3953 - accuracy: 0.8793 - val_loss: 0.4026 - val_accuracy: 0.8861\n",
      "Epoch 23/40\n",
      "1417/1417 - 1s - loss: 0.3826 - accuracy: 0.8906 - val_loss: 0.3912 - val_accuracy: 0.8924\n",
      "Epoch 24/40\n",
      "1417/1417 - 1s - loss: 0.3705 - accuracy: 0.8941 - val_loss: 0.3804 - val_accuracy: 0.8987\n",
      "Epoch 25/40\n",
      "1417/1417 - 1s - loss: 0.3591 - accuracy: 0.9040 - val_loss: 0.3704 - val_accuracy: 0.8987\n",
      "Epoch 26/40\n",
      "1417/1417 - 1s - loss: 0.3485 - accuracy: 0.9061 - val_loss: 0.3611 - val_accuracy: 0.8987\n",
      "Epoch 27/40\n",
      "1417/1417 - 1s - loss: 0.3385 - accuracy: 0.9118 - val_loss: 0.3524 - val_accuracy: 0.8987\n",
      "Epoch 28/40\n",
      "1417/1417 - 1s - loss: 0.3291 - accuracy: 0.9153 - val_loss: 0.3440 - val_accuracy: 0.9051\n",
      "Epoch 29/40\n",
      "1417/1417 - 1s - loss: 0.3197 - accuracy: 0.9195 - val_loss: 0.3359 - val_accuracy: 0.9051\n",
      "Epoch 30/40\n",
      "1417/1417 - 1s - loss: 0.3110 - accuracy: 0.9217 - val_loss: 0.3290 - val_accuracy: 0.9114\n",
      "Epoch 31/40\n",
      "1417/1417 - 1s - loss: 0.3033 - accuracy: 0.9259 - val_loss: 0.3226 - val_accuracy: 0.9114\n",
      "Epoch 32/40\n",
      "1417/1417 - 1s - loss: 0.2965 - accuracy: 0.9294 - val_loss: 0.3171 - val_accuracy: 0.9114\n",
      "Epoch 33/40\n",
      "1417/1417 - 1s - loss: 0.2903 - accuracy: 0.9308 - val_loss: 0.3123 - val_accuracy: 0.9177\n",
      "Epoch 34/40\n",
      "1417/1417 - 1s - loss: 0.2846 - accuracy: 0.9351 - val_loss: 0.3079 - val_accuracy: 0.9177\n",
      "Epoch 35/40\n",
      "1417/1417 - 1s - loss: 0.2796 - accuracy: 0.9351 - val_loss: 0.3040 - val_accuracy: 0.9177\n",
      "Epoch 36/40\n",
      "1417/1417 - 1s - loss: 0.2749 - accuracy: 0.9344 - val_loss: 0.3005 - val_accuracy: 0.9177\n",
      "Epoch 37/40\n",
      "1417/1417 - 1s - loss: 0.2709 - accuracy: 0.9365 - val_loss: 0.2975 - val_accuracy: 0.9177\n",
      "Epoch 38/40\n",
      "1417/1417 - 1s - loss: 0.2670 - accuracy: 0.9365 - val_loss: 0.2949 - val_accuracy: 0.9177\n",
      "Epoch 39/40\n",
      "1417/1417 - 1s - loss: 0.2636 - accuracy: 0.9351 - val_loss: 0.2925 - val_accuracy: 0.9177\n",
      "Epoch 40/40\n",
      "1417/1417 - 1s - loss: 0.2606 - accuracy: 0.9393 - val_loss: 0.2904 - val_accuracy: 0.9177\n"
     ]
    }
   ],
   "source": [
    "history=model.fit(x=xtrain,y=ytrain,batch_size=10,epochs=40,\\\n",
    "                  validation_split=0.1,shuffle=True,verbose=2)"
   ]
  },
  {
   "cell_type": "code",
   "execution_count": 22,
   "metadata": {},
   "outputs": [],
   "source": [
    "import matplotlib.pyplot as plt\n",
    "import seaborn as sns"
   ]
  },
  {
   "cell_type": "code",
   "execution_count": 23,
   "metadata": {},
   "outputs": [
    {
     "data": {
      "image/png": "[encoded data removed]",
      "text/plain": [
       "<Figure size 432x288 with 1 Axes>"
      ]
     },
     "metadata": {
      "needs_background": "light"
     },
     "output_type": "display_data"
    }
   ],
   "source": [
    "plt.plot(history.history['accuracy'],label='Traing Accuracy')\n",
    "plt.plot(history.history['val_accuracy'],label='Validation Accuracy')\n",
    "plt.title('Training Accuracy vs Validation Accuracy')\n",
    "plt.xlabel('# epochs')\n",
    "plt.ylabel('Accuracy')\n",
    "plt.legend()\n",
    "plt.show()"
   ]
  },
  {
   "cell_type": "code",
   "execution_count": 24,
   "metadata": {},
   "outputs": [
    {
     "data": {
      "image/png": "[encoded data removed]",
      "text/plain": [
       "<Figure size 432x288 with 1 Axes>"
      ]
     },
     "metadata": {
      "needs_background": "light"
     },
     "output_type": "display_data"
    }
   ],
   "source": [
    "plt.plot(history.history['loss'],label='Traing loss')\n",
    "plt.plot(history.history['val_loss'],label='Validation loss')\n",
    "plt.title('Training loss vs Validation loss')\n",
    "plt.xlabel('# epochs')\n",
    "plt.ylabel('Accuracy')\n",
    "plt.legend()\n",
    "plt.show()"
   ]
  },
  {
   "cell_type": "code",
   "execution_count": 25,
   "metadata": {},
   "outputs": [],
   "source": [
    "from sklearn.metrics import accuracy_score,confusion_matrix,classification_report"
   ]
  },
  {
   "cell_type": "code",
   "execution_count": 26,
   "metadata": {},
   "outputs": [],
   "source": [
    "ypred=np.argmax(model.predict(xtest),axis=1)"
   ]
  },
  {
   "cell_type": "code",
   "execution_count": 27,
   "metadata": {},
   "outputs": [
    {
     "data": {
      "text/plain": [
       "0.9161904761904762"
      ]
     },
     "execution_count": 27,
     "metadata": {},
     "output_type": "execute_result"
    }
   ],
   "source": [
    "accuracy_score(ytest,ypred)"
   ]
  },
  {
   "cell_type": "code",
   "execution_count": 28,
   "metadata": {},
   "outputs": [
    {
     "name": "stdout",
     "output_type": "stream",
     "text": [
      "              precision    recall  f1-score   support\n",
      "\n",
      "           0       0.94      0.89      0.91       260\n",
      "           1       0.90      0.94      0.92       265\n",
      "\n",
      "    accuracy                           0.92       525\n",
      "   macro avg       0.92      0.92      0.92       525\n",
      "weighted avg       0.92      0.92      0.92       525\n",
      "\n"
     ]
    }
   ],
   "source": [
    "print(classification_report(ytest,ypred))"
   ]
  },
  {
   "cell_type": "code",
   "execution_count": 55,
   "metadata": {},
   "outputs": [],
   "source": [
    "# copied from sklearn libraries\n",
    "def plot_confusion_matrix(cm, classes,\n",
    "                          normalize=False,\n",
    "                          title='Confusion matrix',\n",
    "                          cmap=plt.cm.Blues):\n",
    "    \"\"\"\n",
    "    This function prints and plots the confusion matrix.\n",
    "    Normalization can be applied by setting `normalize=True`.\n",
    "    \"\"\"\n",
    "    plt.imshow(cm, interpolation='nearest', cmap=cmap)\n",
    "    plt.title(title)\n",
    "    plt.colorbar()\n",
    "    tick_marks = np.arange(len(classes))\n",
    "    plt.xticks(tick_marks, classes, rotation=45)\n",
    "    plt.yticks(tick_marks, classes)\n",
    "\n",
    "    if normalize:\n",
    "        cm = cm.astype('float') / cm.sum(axis=1)[:, np.newaxis]\n",
    "        print(\"Normalized confusion matrix\")\n",
    "    else:\n",
    "        print('Confusion matrix, without normalization')\n",
    "\n",
    "    print(cm)\n",
    "\n",
    "    thresh = cm.max() / 2.\n",
    "    for i, j in itertools.product(range(cm.shape[0]), range(cm.shape[1])):\n",
    "        plt.text(j, i, cm[i, j],\n",
    "                 horizontalalignment=\"center\",\n",
    "                 color=\"white\" if cm[i, j] > thresh else \"black\")\n",
    "\n",
    "    plt.tight_layout()\n",
    "    plt.ylabel('True label')\n",
    "    plt.xlabel('Predicted label')\n"
   ]
  },
  {
   "cell_type": "code",
   "execution_count": 56,
   "metadata": {},
   "outputs": [
    {
     "data": {
      "text/plain": [
       "<matplotlib.axes._subplots.AxesSubplot at 0x1d8a3d89860>"
      ]
     },
     "execution_count": 56,
     "metadata": {},
     "output_type": "execute_result"
    },
    {
     "data": {
      "image/png": "[encoded data removed]",
      "text/plain": [
       "<Figure size 432x288 with 2 Axes>"
      ]
     },
     "metadata": {
      "needs_background": "light"
     },
     "output_type": "display_data"
    }
   ],
   "source": [
    "labels=['No Side Effects','Side Effects']\n",
    "sns.heatmap(confusion_matrix(ytest,ypred),annot=True,cmap='GnBu',fmt='d',xticklabels=labels,yticklabels=labels)"
   ]
  },
  {
   "cell_type": "code",
   "execution_count": 58,
   "metadata": {},
   "outputs": [
    {
     "name": "stdout",
     "output_type": "stream",
     "text": [
      "Confusion matrix, without normalization\n",
      "[[232  28]\n",
      " [ 16 249]]\n"
     ]
    },
    {
     "data": {
      "image/png": "[encoded data removed]",
      "text/plain": [
       "<Figure size 432x288 with 2 Axes>"
      ]
     },
     "metadata": {
      "needs_background": "light"
     },
     "output_type": "display_data"
    }
   ],
   "source": [
    "\n",
    "cm=confusion_matrix(ytest,ypred)\n",
    "plot_confusion_matrix(cm=cm,classes=labels,title='Confusion Matrix',cmap='GnBu')"
   ]
  },
  {
   "cell_type": "code",
   "execution_count": 59,
   "metadata": {},
   "outputs": [],
   "source": [
    "model.save('ANN1st.h5')"
   ]
  },
  {
   "cell_type": "code",
   "execution_count": 60,
   "metadata": {},
   "outputs": [],
   "source": [
    "from tensorflow.keras.models import load_model"
   ]
  },
  {
   "cell_type": "code",
   "execution_count": 61,
   "metadata": {},
   "outputs": [],
   "source": [
    "new_model=load_model('ANN1st.h5')"
   ]
  },
  {
   "cell_type": "code",
   "execution_count": 62,
   "metadata": {},
   "outputs": [
    {
     "name": "stdout",
     "output_type": "stream",
     "text": [
      "Model: \"sequential\"\n",
      "_________________________________________________________________\n",
      "Layer (type)                 Output Shape              Param #   \n",
      "=================================================================\n",
      "dense (Dense)                (None, 16)                32        \n",
      "_________________________________________________________________\n",
      "dense_1 (Dense)              (None, 32)                544       \n",
      "_________________________________________________________________\n",
      "dense_2 (Dense)              (None, 2)                 66        \n",
      "=================================================================\n",
      "Total params: 642\n",
      "Trainable params: 642\n",
      "Non-trainable params: 0\n",
      "_________________________________________________________________\n"
     ]
    }
   ],
   "source": [
    "new_model.summary()"
   ]
  },
  {
   "cell_type": "code",
   "execution_count": 63,
   "metadata": {},
   "outputs": [
    {
     "data": {
      "text/plain": [
       "[array([[ 0.60538656, -0.06101841, -0.5431168 ,  0.6332494 , -0.06237125,\n",
       "         -0.06571156,  0.4341213 , -0.29241344,  0.6108847 , -0.15555835,\n",
       "          0.3568751 ,  0.47862458, -0.28384045,  0.54761875,  0.28988746,\n",
       "         -0.45011437]], dtype=float32),\n",
       " array([ 0.31434494,  0.        ,  0.        , -0.19403717,  0.        ,\n",
       "         0.        , -0.14859818,  0.        , -0.18618065,  0.        ,\n",
       "        -0.12686817, -0.11050011,  0.        , -0.18370897, -0.10401828,\n",
       "         0.        ], dtype=float32),\n",
       " array([[ 2.77511239e-01, -2.91189462e-01,  3.37221950e-01,\n",
       "          2.17366442e-01,  2.58621484e-01,  1.63940951e-01,\n",
       "          1.58053815e-01, -1.96716368e-01, -2.99960554e-01,\n",
       "          2.21950095e-02,  2.22667396e-01, -8.45013857e-02,\n",
       "          3.56763512e-01,  1.82593673e-01,  2.13254213e-01,\n",
       "          3.34650815e-01, -3.19504827e-01,  3.82340342e-01,\n",
       "         -1.65826350e-01, -2.21178740e-01, -5.44629991e-02,\n",
       "          3.05971026e-01, -1.90877095e-01, -5.98088428e-02,\n",
       "          3.72056998e-02,  2.68433839e-01, -3.02729011e-01,\n",
       "         -2.31193885e-01, -2.57679850e-01, -2.05871284e-01,\n",
       "         -3.15476149e-01,  4.02826011e-01],\n",
       "        [ 2.99029261e-01, -3.20731014e-01,  2.54844815e-01,\n",
       "         -2.77027190e-01,  2.04597324e-01,  9.03906524e-02,\n",
       "          1.00085944e-01, -3.22406203e-01,  1.84459239e-01,\n",
       "          1.18903339e-01,  7.98927248e-02,  4.28973138e-02,\n",
       "          3.00545603e-01,  6.01046085e-02, -2.50909626e-01,\n",
       "          2.21558064e-01, -2.83992708e-01, -6.08250797e-02,\n",
       "          1.52400285e-01, -2.24469975e-01, -1.82833955e-01,\n",
       "         -1.99020192e-01,  4.59143519e-02,  2.49273568e-01,\n",
       "         -1.84648454e-01, -2.58310854e-01,  1.02897137e-01,\n",
       "         -2.64098942e-02, -6.78387284e-02, -3.21552366e-01,\n",
       "         -3.45943093e-01, -1.32074222e-01],\n",
       "        [-3.10955226e-01,  2.56982744e-02,  1.17861390e-01,\n",
       "          2.05302089e-01,  8.66694152e-02, -2.92622626e-01,\n",
       "         -5.52026033e-02, -2.45274425e-01, -2.29381263e-01,\n",
       "         -2.44711593e-01,  2.40341276e-01,  6.67811632e-02,\n",
       "         -1.04230002e-01,  1.02227867e-01,  2.55327612e-01,\n",
       "         -1.77328482e-01,  3.34177881e-01,  1.64462835e-01,\n",
       "          2.29449868e-02,  2.29275137e-01, -1.89803779e-01,\n",
       "          6.29851818e-02,  3.43566865e-01,  5.83159924e-03,\n",
       "          1.88144714e-01,  1.91280752e-01, -1.58653468e-01,\n",
       "         -1.08602732e-01, -1.79800734e-01, -2.25613847e-01,\n",
       "          5.60427606e-02,  3.67588699e-02],\n",
       "        [ 1.33904502e-01,  2.50379354e-01,  5.72791398e-01,\n",
       "         -1.60822377e-01,  5.53446352e-01,  8.70674103e-02,\n",
       "          6.28051937e-01, -2.14548111e-01,  1.36778876e-01,\n",
       "          2.25400925e-03, -2.40325063e-01, -3.35531652e-01,\n",
       "          7.09080398e-01, -3.49766940e-01, -1.79480672e-01,\n",
       "         -3.52322683e-02, -1.36204109e-01, -4.41587806e-01,\n",
       "          8.78176689e-02,  2.90823609e-01, -3.09192091e-01,\n",
       "          6.38296366e-01, -1.79062992e-01,  2.46515930e-01,\n",
       "         -2.28985790e-02, -4.61380303e-01,  2.14241058e-01,\n",
       "         -4.41910811e-02, -2.35558733e-01,  2.30296273e-02,\n",
       "         -2.02798158e-01,  2.38194376e-01],\n",
       "        [-1.52532727e-01, -7.71462619e-02,  2.14391500e-01,\n",
       "          4.65955436e-02, -1.65066421e-02, -1.71625927e-01,\n",
       "         -1.23590231e-03, -2.58344173e-01,  1.24154001e-01,\n",
       "          1.39817953e-01,  9.16810334e-02, -2.63403893e-01,\n",
       "          1.35194540e-01, -2.51195878e-01, -2.09013894e-01,\n",
       "          8.69621933e-02, -3.14221203e-01, -2.98157334e-01,\n",
       "         -2.67358363e-01, -1.46411315e-01,  2.01956242e-01,\n",
       "          9.58720148e-02,  3.25310975e-01, -3.24313343e-01,\n",
       "         -1.88659430e-02,  3.36337656e-01, -1.83605492e-01,\n",
       "         -1.90800712e-01, -9.66743231e-02,  2.26512820e-01,\n",
       "          6.07781112e-02, -3.23282182e-01],\n",
       "        [-2.14696795e-01, -1.15402952e-01, -2.08423838e-01,\n",
       "         -2.59490460e-01,  2.07812935e-01, -1.68082982e-01,\n",
       "         -3.03504854e-01, -6.18525147e-02, -2.28526190e-01,\n",
       "         -8.26499760e-02,  2.26462483e-02, -1.10722050e-01,\n",
       "         -2.31414437e-01,  1.97219521e-01, -2.52999425e-01,\n",
       "          3.33677083e-01, -1.17682174e-01,  5.66718280e-02,\n",
       "          1.79493994e-01, -2.00519353e-01,  3.37792903e-01,\n",
       "         -2.43465900e-01,  2.55515009e-01,  1.68882221e-01,\n",
       "          6.14471436e-02,  1.99016660e-01, -1.67860448e-01,\n",
       "         -7.91481435e-02, -1.98556840e-01,  2.50640363e-01,\n",
       "         -3.50764453e-01,  2.77813584e-01],\n",
       "        [-1.35717854e-01, -2.82963991e-01,  1.51541412e-01,\n",
       "          2.86749601e-01,  4.85672355e-02,  5.82949281e-01,\n",
       "          6.58038378e-01,  1.59014910e-01,  2.78786600e-01,\n",
       "         -1.45172462e-01,  1.75066277e-01,  6.05366230e-02,\n",
       "          2.33963743e-01,  1.93573639e-01, -1.81120053e-01,\n",
       "         -3.79789889e-01, -2.01620802e-01, -2.78061360e-01,\n",
       "         -1.56579077e-01, -1.46307886e-01, -2.70565569e-01,\n",
       "          1.00076325e-01, -2.58725762e-01, -8.23886916e-02,\n",
       "         -1.79927349e-02, -5.08938789e-01,  1.01930037e-01,\n",
       "         -3.02331924e-01,  2.46094853e-01, -1.55896932e-01,\n",
       "          2.25185722e-01,  6.82444513e-01],\n",
       "        [ 3.10117334e-01, -1.52695924e-01, -7.22611845e-02,\n",
       "         -1.05372936e-01, -1.75372362e-01,  7.43507445e-02,\n",
       "         -1.01811856e-01, -5.77895641e-02,  2.10841030e-01,\n",
       "          2.65544623e-01, -3.34440291e-01,  3.09395820e-01,\n",
       "          2.98794597e-01, -1.84612632e-01, -5.65028191e-02,\n",
       "          2.45904595e-01,  2.42223471e-01,  9.33400989e-02,\n",
       "          2.80306906e-01, -1.68033496e-01, -7.52275586e-02,\n",
       "         -3.28833401e-01, -1.22552574e-01,  3.24725002e-01,\n",
       "          7.11094737e-02, -3.22864145e-01, -7.67253041e-02,\n",
       "         -2.52254128e-01,  2.06736177e-01,  2.22675771e-01,\n",
       "         -2.43003130e-01, -1.29131794e-01],\n",
       "        [-9.27756773e-04, -6.30115569e-02,  1.71040833e-01,\n",
       "         -2.68673033e-01,  3.25650394e-01,  3.40721667e-01,\n",
       "          2.54529983e-01, -8.64163041e-03,  6.91536069e-02,\n",
       "         -2.53040671e-01, -1.45692274e-01, -2.86119878e-01,\n",
       "          5.61651886e-01, -3.22074890e-01,  5.15480675e-02,\n",
       "         -1.44245028e-01,  2.29823649e-01, -3.85077745e-01,\n",
       "         -2.98334271e-01, -1.17026448e-01, -4.62921076e-02,\n",
       "          2.23133683e-01,  7.51164854e-02,  1.16079018e-01,\n",
       "         -2.80763060e-01, -8.28581229e-02,  2.05368735e-02,\n",
       "          2.12323472e-01,  1.36640757e-01,  2.17406735e-01,\n",
       "          3.95337343e-02,  6.51092172e-01],\n",
       "        [ 2.67554909e-01, -1.21011779e-01,  1.67927176e-01,\n",
       "          1.40302807e-01,  1.11431032e-01,  1.15307212e-01,\n",
       "         -3.50023836e-01, -1.87020734e-01,  3.77154350e-03,\n",
       "          1.15473092e-01, -2.06748843e-02, -3.17389101e-01,\n",
       "          1.36120915e-01,  1.69832498e-01,  1.07379556e-01,\n",
       "         -1.01532102e-01,  1.37060046e-01, -1.18450180e-01,\n",
       "         -1.83894873e-01,  2.55168080e-02, -8.07447731e-02,\n",
       "         -5.21804094e-02, -1.01717293e-01, -2.36160249e-01,\n",
       "         -6.84232116e-02, -1.63440242e-01, -2.95409441e-01,\n",
       "          1.77179128e-01, -2.25901201e-01, -1.24678642e-01,\n",
       "         -1.92064941e-02, -8.25884342e-02],\n",
       "        [ 1.40197054e-01,  2.19444841e-01,  5.09256899e-01,\n",
       "         -2.52353966e-01,  2.94956356e-01,  2.62514442e-01,\n",
       "         -9.26827919e-03, -1.26591772e-01, -3.13931525e-01,\n",
       "          3.50059241e-01, -1.47158891e-01,  2.54204482e-01,\n",
       "          2.80698687e-01, -7.41319954e-02,  4.16249596e-02,\n",
       "         -2.30656281e-01,  2.54328191e-01, -4.91221339e-01,\n",
       "         -8.68096948e-02, -3.52187812e-01,  3.06423873e-01,\n",
       "          4.51329798e-01,  1.01850331e-02, -1.06632151e-01,\n",
       "         -3.06572706e-01, -5.36965847e-01,  1.94034204e-01,\n",
       "          1.38004065e-01,  3.15936476e-01,  9.65174064e-02,\n",
       "          8.80087614e-02,  5.50378740e-01],\n",
       "        [ 1.27286851e-01, -3.48561764e-01,  5.72001517e-01,\n",
       "         -2.00114548e-01,  4.19020951e-01,  5.75873494e-01,\n",
       "          2.48411164e-01,  8.73513520e-02,  1.45023003e-01,\n",
       "         -4.89106327e-02, -2.14715019e-01, -8.01616907e-02,\n",
       "          1.59864336e-01, -1.75202470e-02, -6.57810771e-04,\n",
       "         -5.50648391e-01,  2.25910529e-01, -4.01323773e-02,\n",
       "         -2.11936429e-01, -3.50812316e-01,  3.39194834e-01,\n",
       "          7.72053301e-02, -6.75759912e-02, -2.42698133e-01,\n",
       "          2.23574210e-02,  2.14003667e-01,  2.45975882e-01,\n",
       "          9.89949182e-02, -3.14099491e-02,  1.95377901e-01,\n",
       "          2.86329478e-01,  3.27281505e-01],\n",
       "        [-4.30717170e-02, -3.40266496e-01,  4.49367166e-02,\n",
       "         -2.82107294e-02, -1.55676544e-01,  6.67419732e-02,\n",
       "          1.96924239e-01,  2.70622045e-01, -1.15790963e-01,\n",
       "         -1.85292959e-03,  2.01723725e-01,  1.47458643e-01,\n",
       "         -3.02576840e-01,  2.59867698e-01, -7.00581074e-03,\n",
       "         -3.17827702e-01,  4.33294773e-02, -4.88801301e-02,\n",
       "         -1.91538125e-01, -2.94468731e-01, -1.88671038e-01,\n",
       "          1.80195898e-01,  9.44384933e-03, -2.36655474e-01,\n",
       "         -1.75268844e-01, -1.94095418e-01,  1.66180044e-01,\n",
       "         -2.66835749e-01, -2.81020433e-01, -1.68634176e-01,\n",
       "          4.67622578e-02, -1.17697179e-01],\n",
       "        [-2.03250602e-01, -1.57725394e-01,  6.08621359e-01,\n",
       "         -6.54645339e-02,  5.95186174e-01,  2.16195539e-01,\n",
       "          8.51459131e-02, -3.16644788e-01,  2.27041189e-02,\n",
       "         -1.90733373e-01, -3.62951487e-01,  1.86057597e-01,\n",
       "          6.55023813e-01,  2.21932694e-01, -3.13743763e-02,\n",
       "         -4.66136068e-01,  2.38558888e-01, -4.44061607e-01,\n",
       "          6.95484579e-02,  7.66999424e-02, -2.72006571e-01,\n",
       "          6.14290118e-01,  2.25557715e-01,  1.36757642e-01,\n",
       "          1.02196932e-02, -5.50668895e-01, -1.92580149e-01,\n",
       "          1.75439745e-01, -1.83210075e-01,  1.72856972e-01,\n",
       "         -8.56660903e-02,  4.24630456e-02],\n",
       "        [ 1.05726704e-01, -2.64151335e-01,  4.54540372e-01,\n",
       "          1.48900643e-01,  8.50085914e-02,  6.28457844e-01,\n",
       "          4.53424037e-01,  1.79788440e-01,  1.57883033e-01,\n",
       "          2.97098964e-01, -2.43528754e-01,  1.18030906e-01,\n",
       "          3.47820014e-01, -2.83927452e-02, -1.15721866e-01,\n",
       "         -4.20557559e-02,  1.67318389e-01, -1.86313897e-01,\n",
       "          2.65521497e-01,  1.27685905e-01,  3.09630305e-01,\n",
       "          2.08780169e-02, -2.33931184e-01, -3.70606393e-01,\n",
       "         -2.53845245e-01, -4.90299761e-01,  2.62896419e-01,\n",
       "         -3.59987259e-01, -7.73002803e-02, -2.03335121e-01,\n",
       "         -3.46406549e-01,  2.47039109e-01],\n",
       "        [-3.31059396e-02, -2.71367550e-01,  1.73763365e-01,\n",
       "          2.60306746e-01,  6.53693378e-02,  1.09573871e-01,\n",
       "         -5.09479642e-03, -8.20000768e-02, -4.86155450e-02,\n",
       "          2.37297028e-01,  3.46673816e-01, -1.87564343e-01,\n",
       "          4.28456068e-03,  2.18130857e-01, -3.39889884e-01,\n",
       "          2.48677760e-01,  2.54856735e-01, -3.30299705e-01,\n",
       "         -3.35155129e-02, -2.29350597e-01,  4.69902158e-03,\n",
       "          1.35576040e-01,  2.59194165e-01,  3.39664131e-01,\n",
       "         -1.85768217e-01, -3.09639812e-01, -2.05232978e-01,\n",
       "         -3.18026543e-01,  5.67380786e-02, -4.35692072e-02,\n",
       "         -1.68992758e-01, -3.51974815e-01]], dtype=float32),\n",
       " array([ 0.1553232 ,  0.        , -0.16428012, -0.017775  , -0.13692847,\n",
       "        -0.11652752, -0.10573418,  0.        , -0.02719504, -0.01176709,\n",
       "         0.13586155,  0.        , -0.15694918, -0.00866542,  0.17326623,\n",
       "         0.26889166, -0.05385878,  0.3687088 ,  0.        ,  0.        ,\n",
       "        -0.00494249, -0.13591586,  0.        , -0.01832276, -0.01920342,\n",
       "         0.36831447, -0.05352932, -0.01525383,  0.        , -0.06962088,\n",
       "         0.        , -0.17145601], dtype=float32),\n",
       " array([[-0.0078593 , -0.2283369 ],\n",
       "        [ 0.34600237, -0.22527401],\n",
       "        [-0.279307  ,  0.30529618],\n",
       "        [ 0.25155672,  0.06228615],\n",
       "        [-0.36622486,  0.328682  ],\n",
       "        [-0.26134732,  0.5423029 ],\n",
       "        [-0.31600353,  0.511212  ],\n",
       "        [-0.10912168, -0.22919682],\n",
       "        [ 0.28306654, -0.23392478],\n",
       "        [-0.40421417, -0.21569881],\n",
       "        [ 0.43150672, -0.09578045],\n",
       "        [ 0.01595011,  0.18548688],\n",
       "        [-0.6265393 , -0.060232  ],\n",
       "        [ 0.27316928, -0.01842933],\n",
       "        [ 0.31955123, -0.22092815],\n",
       "        [ 0.27193138, -0.5618308 ],\n",
       "        [ 0.35173762, -0.16619825],\n",
       "        [ 0.6991902 , -0.5242332 ],\n",
       "        [ 0.3964667 ,  0.07067949],\n",
       "        [ 0.04562908,  0.09400639],\n",
       "        [ 0.10822673,  0.3937788 ],\n",
       "        [-0.10804876,  0.70451504],\n",
       "        [ 0.03785101, -0.18958588],\n",
       "        [ 0.14906472, -0.0397914 ],\n",
       "        [-0.14186454,  0.00920667],\n",
       "        [ 0.6035136 , -0.7296932 ],\n",
       "        [ 0.15819857, -0.08275187],\n",
       "        [-0.2730679 , -0.30061924],\n",
       "        [ 0.2844462 ,  0.19443926],\n",
       "        [ 0.03311413, -0.3469391 ],\n",
       "        [-0.25937977,  0.28904262],\n",
       "        [-0.6862652 , -0.10568685]], dtype=float32),\n",
       " array([ 0.18483225, -0.18483226], dtype=float32)]"
      ]
     },
     "execution_count": 63,
     "metadata": {},
     "output_type": "execute_result"
    }
   ],
   "source": [
    "new_model.get_weights()"
   ]
  },
  {
   "cell_type": "code",
   "execution_count": 64,
   "metadata": {},
   "outputs": [
    {
     "data": {
      "text/plain": [
       "<tensorflow.python.keras.optimizer_v2.adam.Adam at 0x1d8a54ff390>"
      ]
     },
     "execution_count": 64,
     "metadata": {},
     "output_type": "execute_result"
    }
   ],
   "source": [
    "new_model.optimizer"
   ]
  },
  {
   "cell_type": "code",
   "execution_count": 65,
   "metadata": {},
   "outputs": [],
   "source": [
    "json_str=model.to_json()"
   ]
  },
  {
   "cell_type": "code",
   "execution_count": 66,
   "metadata": {},
   "outputs": [
    {
     "data": {
      "text/plain": [
       "'{\"class_name\": \"Sequential\", \"config\": {\"name\": \"sequential\", \"layers\": [{\"class_name\": \"Dense\", \"config\": {\"name\": \"dense\", \"trainable\": true, \"batch_input_shape\": [null, 1], \"dtype\": \"float32\", \"units\": 16, \"activation\": \"relu\", \"use_bias\": true, \"kernel_initializer\": {\"class_name\": \"GlorotUniform\", \"config\": {\"seed\": null}}, \"bias_initializer\": {\"class_name\": \"Zeros\", \"config\": {}}, \"kernel_regularizer\": null, \"bias_regularizer\": null, \"activity_regularizer\": null, \"kernel_constraint\": null, \"bias_constraint\": null}}, {\"class_name\": \"Dense\", \"config\": {\"name\": \"dense_1\", \"trainable\": true, \"dtype\": \"float32\", \"units\": 32, \"activation\": \"relu\", \"use_bias\": true, \"kernel_initializer\": {\"class_name\": \"GlorotUniform\", \"config\": {\"seed\": null}}, \"bias_initializer\": {\"class_name\": \"Zeros\", \"config\": {}}, \"kernel_regularizer\": null, \"bias_regularizer\": null, \"activity_regularizer\": null, \"kernel_constraint\": null, \"bias_constraint\": null}}, {\"class_name\": \"Dense\", \"config\": {\"name\": \"dense_2\", \"trainable\": true, \"dtype\": \"float32\", \"units\": 2, \"activation\": \"softmax\", \"use_bias\": true, \"kernel_initializer\": {\"class_name\": \"GlorotUniform\", \"config\": {\"seed\": null}}, \"bias_initializer\": {\"class_name\": \"Zeros\", \"config\": {}}, \"kernel_regularizer\": null, \"bias_regularizer\": null, \"activity_regularizer\": null, \"kernel_constraint\": null, \"bias_constraint\": null}}]}, \"keras_version\": \"2.2.4-tf\", \"backend\": \"tensorflow\"}'"
      ]
     },
     "execution_count": 66,
     "metadata": {},
     "output_type": "execute_result"
    }
   ],
   "source": [
    "json_str"
   ]
  },
  {
   "cell_type": "code",
   "execution_count": 69,
   "metadata": {},
   "outputs": [],
   "source": [
    "# other way to get the model instead of h5 load model\n",
    "from tensorflow.keras.models import model_from_json\n",
    "model_architecture=model_from_json(json_str)"
   ]
  },
  {
   "cell_type": "code",
   "execution_count": 70,
   "metadata": {},
   "outputs": [
    {
     "name": "stdout",
     "output_type": "stream",
     "text": [
      "Model: \"sequential\"\n",
      "_________________________________________________________________\n",
      "Layer (type)                 Output Shape              Param #   \n",
      "=================================================================\n",
      "dense (Dense)                (None, 16)                32        \n",
      "_________________________________________________________________\n",
      "dense_1 (Dense)              (None, 32)                544       \n",
      "_________________________________________________________________\n",
      "dense_2 (Dense)              (None, 2)                 66        \n",
      "=================================================================\n",
      "Total params: 642\n",
      "Trainable params: 642\n",
      "Non-trainable params: 0\n",
      "_________________________________________________________________\n"
     ]
    }
   ],
   "source": [
    "model_architecture.summary()"
   ]
  },
  {
   "cell_type": "code",
   "execution_count": 72,
   "metadata": {},
   "outputs": [],
   "source": [
    "model.save_weights('mymodel_weights.h5')"
   ]
  },
  {
   "cell_type": "code",
   "execution_count": 74,
   "metadata": {},
   "outputs": [],
   "source": [
    "#copy the existing weights to new model\n",
    "model2=Sequential([\n",
    "    Dense(units=16,input_shape=(1,),activation='relu'),\n",
    "    Dense(units=32,activation='relu'),\n",
    "    Dense(units=2,activation='softmax')\n",
    "])"
   ]
  },
  {
   "cell_type": "code",
   "execution_count": 75,
   "metadata": {},
   "outputs": [],
   "source": [
    "model2.load_weights('mymodel_weights.h5')"
   ]
  },
  {
   "cell_type": "code",
   "execution_count": 76,
   "metadata": {},
   "outputs": [
    {
     "data": {
      "text/plain": [
       "[array([[ 0.60538656, -0.06101841, -0.5431168 ,  0.6332494 , -0.06237125,\n",
       "         -0.06571156,  0.4341213 , -0.29241344,  0.6108847 , -0.15555835,\n",
       "          0.3568751 ,  0.47862458, -0.28384045,  0.54761875,  0.28988746,\n",
       "         -0.45011437]], dtype=float32),\n",
       " array([ 0.31434494,  0.        ,  0.        , -0.19403717,  0.        ,\n",
       "         0.        , -0.14859818,  0.        , -0.18618065,  0.        ,\n",
       "        -0.12686817, -0.11050011,  0.        , -0.18370897, -0.10401828,\n",
       "         0.        ], dtype=float32),\n",
       " array([[ 2.77511239e-01, -2.91189462e-01,  3.37221950e-01,\n",
       "          2.17366442e-01,  2.58621484e-01,  1.63940951e-01,\n",
       "          1.58053815e-01, -1.96716368e-01, -2.99960554e-01,\n",
       "          2.21950095e-02,  2.22667396e-01, -8.45013857e-02,\n",
       "          3.56763512e-01,  1.82593673e-01,  2.13254213e-01,\n",
       "          3.34650815e-01, -3.19504827e-01,  3.82340342e-01,\n",
       "         -1.65826350e-01, -2.21178740e-01, -5.44629991e-02,\n",
       "          3.05971026e-01, -1.90877095e-01, -5.98088428e-02,\n",
       "          3.72056998e-02,  2.68433839e-01, -3.02729011e-01,\n",
       "         -2.31193885e-01, -2.57679850e-01, -2.05871284e-01,\n",
       "         -3.15476149e-01,  4.02826011e-01],\n",
       "        [ 2.99029261e-01, -3.20731014e-01,  2.54844815e-01,\n",
       "         -2.77027190e-01,  2.04597324e-01,  9.03906524e-02,\n",
       "          1.00085944e-01, -3.22406203e-01,  1.84459239e-01,\n",
       "          1.18903339e-01,  7.98927248e-02,  4.28973138e-02,\n",
       "          3.00545603e-01,  6.01046085e-02, -2.50909626e-01,\n",
       "          2.21558064e-01, -2.83992708e-01, -6.08250797e-02,\n",
       "          1.52400285e-01, -2.24469975e-01, -1.82833955e-01,\n",
       "         -1.99020192e-01,  4.59143519e-02,  2.49273568e-01,\n",
       "         -1.84648454e-01, -2.58310854e-01,  1.02897137e-01,\n",
       "         -2.64098942e-02, -6.78387284e-02, -3.21552366e-01,\n",
       "         -3.45943093e-01, -1.32074222e-01],\n",
       "        [-3.10955226e-01,  2.56982744e-02,  1.17861390e-01,\n",
       "          2.05302089e-01,  8.66694152e-02, -2.92622626e-01,\n",
       "         -5.52026033e-02, -2.45274425e-01, -2.29381263e-01,\n",
       "         -2.44711593e-01,  2.40341276e-01,  6.67811632e-02,\n",
       "         -1.04230002e-01,  1.02227867e-01,  2.55327612e-01,\n",
       "         -1.77328482e-01,  3.34177881e-01,  1.64462835e-01,\n",
       "          2.29449868e-02,  2.29275137e-01, -1.89803779e-01,\n",
       "          6.29851818e-02,  3.43566865e-01,  5.83159924e-03,\n",
       "          1.88144714e-01,  1.91280752e-01, -1.58653468e-01,\n",
       "         -1.08602732e-01, -1.79800734e-01, -2.25613847e-01,\n",
       "          5.60427606e-02,  3.67588699e-02],\n",
       "        [ 1.33904502e-01,  2.50379354e-01,  5.72791398e-01,\n",
       "         -1.60822377e-01,  5.53446352e-01,  8.70674103e-02,\n",
       "          6.28051937e-01, -2.14548111e-01,  1.36778876e-01,\n",
       "          2.25400925e-03, -2.40325063e-01, -3.35531652e-01,\n",
       "          7.09080398e-01, -3.49766940e-01, -1.79480672e-01,\n",
       "         -3.52322683e-02, -1.36204109e-01, -4.41587806e-01,\n",
       "          8.78176689e-02,  2.90823609e-01, -3.09192091e-01,\n",
       "          6.38296366e-01, -1.79062992e-01,  2.46515930e-01,\n",
       "         -2.28985790e-02, -4.61380303e-01,  2.14241058e-01,\n",
       "         -4.41910811e-02, -2.35558733e-01,  2.30296273e-02,\n",
       "         -2.02798158e-01,  2.38194376e-01],\n",
       "        [-1.52532727e-01, -7.71462619e-02,  2.14391500e-01,\n",
       "          4.65955436e-02, -1.65066421e-02, -1.71625927e-01,\n",
       "         -1.23590231e-03, -2.58344173e-01,  1.24154001e-01,\n",
       "          1.39817953e-01,  9.16810334e-02, -2.63403893e-01,\n",
       "          1.35194540e-01, -2.51195878e-01, -2.09013894e-01,\n",
       "          8.69621933e-02, -3.14221203e-01, -2.98157334e-01,\n",
       "         -2.67358363e-01, -1.46411315e-01,  2.01956242e-01,\n",
       "          9.58720148e-02,  3.25310975e-01, -3.24313343e-01,\n",
       "         -1.88659430e-02,  3.36337656e-01, -1.83605492e-01,\n",
       "         -1.90800712e-01, -9.66743231e-02,  2.26512820e-01,\n",
       "          6.07781112e-02, -3.23282182e-01],\n",
       "        [-2.14696795e-01, -1.15402952e-01, -2.08423838e-01,\n",
       "         -2.59490460e-01,  2.07812935e-01, -1.68082982e-01,\n",
       "         -3.03504854e-01, -6.18525147e-02, -2.28526190e-01,\n",
       "         -8.26499760e-02,  2.26462483e-02, -1.10722050e-01,\n",
       "         -2.31414437e-01,  1.97219521e-01, -2.52999425e-01,\n",
       "          3.33677083e-01, -1.17682174e-01,  5.66718280e-02,\n",
       "          1.79493994e-01, -2.00519353e-01,  3.37792903e-01,\n",
       "         -2.43465900e-01,  2.55515009e-01,  1.68882221e-01,\n",
       "          6.14471436e-02,  1.99016660e-01, -1.67860448e-01,\n",
       "         -7.91481435e-02, -1.98556840e-01,  2.50640363e-01,\n",
       "         -3.50764453e-01,  2.77813584e-01],\n",
       "        [-1.35717854e-01, -2.82963991e-01,  1.51541412e-01,\n",
       "          2.86749601e-01,  4.85672355e-02,  5.82949281e-01,\n",
       "          6.58038378e-01,  1.59014910e-01,  2.78786600e-01,\n",
       "         -1.45172462e-01,  1.75066277e-01,  6.05366230e-02,\n",
       "          2.33963743e-01,  1.93573639e-01, -1.81120053e-01,\n",
       "         -3.79789889e-01, -2.01620802e-01, -2.78061360e-01,\n",
       "         -1.56579077e-01, -1.46307886e-01, -2.70565569e-01,\n",
       "          1.00076325e-01, -2.58725762e-01, -8.23886916e-02,\n",
       "         -1.79927349e-02, -5.08938789e-01,  1.01930037e-01,\n",
       "         -3.02331924e-01,  2.46094853e-01, -1.55896932e-01,\n",
       "          2.25185722e-01,  6.82444513e-01],\n",
       "        [ 3.10117334e-01, -1.52695924e-01, -7.22611845e-02,\n",
       "         -1.05372936e-01, -1.75372362e-01,  7.43507445e-02,\n",
       "         -1.01811856e-01, -5.77895641e-02,  2.10841030e-01,\n",
       "          2.65544623e-01, -3.34440291e-01,  3.09395820e-01,\n",
       "          2.98794597e-01, -1.84612632e-01, -5.65028191e-02,\n",
       "          2.45904595e-01,  2.42223471e-01,  9.33400989e-02,\n",
       "          2.80306906e-01, -1.68033496e-01, -7.52275586e-02,\n",
       "         -3.28833401e-01, -1.22552574e-01,  3.24725002e-01,\n",
       "          7.11094737e-02, -3.22864145e-01, -7.67253041e-02,\n",
       "         -2.52254128e-01,  2.06736177e-01,  2.22675771e-01,\n",
       "         -2.43003130e-01, -1.29131794e-01],\n",
       "        [-9.27756773e-04, -6.30115569e-02,  1.71040833e-01,\n",
       "         -2.68673033e-01,  3.25650394e-01,  3.40721667e-01,\n",
       "          2.54529983e-01, -8.64163041e-03,  6.91536069e-02,\n",
       "         -2.53040671e-01, -1.45692274e-01, -2.86119878e-01,\n",
       "          5.61651886e-01, -3.22074890e-01,  5.15480675e-02,\n",
       "         -1.44245028e-01,  2.29823649e-01, -3.85077745e-01,\n",
       "         -2.98334271e-01, -1.17026448e-01, -4.62921076e-02,\n",
       "          2.23133683e-01,  7.51164854e-02,  1.16079018e-01,\n",
       "         -2.80763060e-01, -8.28581229e-02,  2.05368735e-02,\n",
       "          2.12323472e-01,  1.36640757e-01,  2.17406735e-01,\n",
       "          3.95337343e-02,  6.51092172e-01],\n",
       "        [ 2.67554909e-01, -1.21011779e-01,  1.67927176e-01,\n",
       "          1.40302807e-01,  1.11431032e-01,  1.15307212e-01,\n",
       "         -3.50023836e-01, -1.87020734e-01,  3.77154350e-03,\n",
       "          1.15473092e-01, -2.06748843e-02, -3.17389101e-01,\n",
       "          1.36120915e-01,  1.69832498e-01,  1.07379556e-01,\n",
       "         -1.01532102e-01,  1.37060046e-01, -1.18450180e-01,\n",
       "         -1.83894873e-01,  2.55168080e-02, -8.07447731e-02,\n",
       "         -5.21804094e-02, -1.01717293e-01, -2.36160249e-01,\n",
       "         -6.84232116e-02, -1.63440242e-01, -2.95409441e-01,\n",
       "          1.77179128e-01, -2.25901201e-01, -1.24678642e-01,\n",
       "         -1.92064941e-02, -8.25884342e-02],\n",
       "        [ 1.40197054e-01,  2.19444841e-01,  5.09256899e-01,\n",
       "         -2.52353966e-01,  2.94956356e-01,  2.62514442e-01,\n",
       "         -9.26827919e-03, -1.26591772e-01, -3.13931525e-01,\n",
       "          3.50059241e-01, -1.47158891e-01,  2.54204482e-01,\n",
       "          2.80698687e-01, -7.41319954e-02,  4.16249596e-02,\n",
       "         -2.30656281e-01,  2.54328191e-01, -4.91221339e-01,\n",
       "         -8.68096948e-02, -3.52187812e-01,  3.06423873e-01,\n",
       "          4.51329798e-01,  1.01850331e-02, -1.06632151e-01,\n",
       "         -3.06572706e-01, -5.36965847e-01,  1.94034204e-01,\n",
       "          1.38004065e-01,  3.15936476e-01,  9.65174064e-02,\n",
       "          8.80087614e-02,  5.50378740e-01],\n",
       "        [ 1.27286851e-01, -3.48561764e-01,  5.72001517e-01,\n",
       "         -2.00114548e-01,  4.19020951e-01,  5.75873494e-01,\n",
       "          2.48411164e-01,  8.73513520e-02,  1.45023003e-01,\n",
       "         -4.89106327e-02, -2.14715019e-01, -8.01616907e-02,\n",
       "          1.59864336e-01, -1.75202470e-02, -6.57810771e-04,\n",
       "         -5.50648391e-01,  2.25910529e-01, -4.01323773e-02,\n",
       "         -2.11936429e-01, -3.50812316e-01,  3.39194834e-01,\n",
       "          7.72053301e-02, -6.75759912e-02, -2.42698133e-01,\n",
       "          2.23574210e-02,  2.14003667e-01,  2.45975882e-01,\n",
       "          9.89949182e-02, -3.14099491e-02,  1.95377901e-01,\n",
       "          2.86329478e-01,  3.27281505e-01],\n",
       "        [-4.30717170e-02, -3.40266496e-01,  4.49367166e-02,\n",
       "         -2.82107294e-02, -1.55676544e-01,  6.67419732e-02,\n",
       "          1.96924239e-01,  2.70622045e-01, -1.15790963e-01,\n",
       "         -1.85292959e-03,  2.01723725e-01,  1.47458643e-01,\n",
       "         -3.02576840e-01,  2.59867698e-01, -7.00581074e-03,\n",
       "         -3.17827702e-01,  4.33294773e-02, -4.88801301e-02,\n",
       "         -1.91538125e-01, -2.94468731e-01, -1.88671038e-01,\n",
       "          1.80195898e-01,  9.44384933e-03, -2.36655474e-01,\n",
       "         -1.75268844e-01, -1.94095418e-01,  1.66180044e-01,\n",
       "         -2.66835749e-01, -2.81020433e-01, -1.68634176e-01,\n",
       "          4.67622578e-02, -1.17697179e-01],\n",
       "        [-2.03250602e-01, -1.57725394e-01,  6.08621359e-01,\n",
       "         -6.54645339e-02,  5.95186174e-01,  2.16195539e-01,\n",
       "          8.51459131e-02, -3.16644788e-01,  2.27041189e-02,\n",
       "         -1.90733373e-01, -3.62951487e-01,  1.86057597e-01,\n",
       "          6.55023813e-01,  2.21932694e-01, -3.13743763e-02,\n",
       "         -4.66136068e-01,  2.38558888e-01, -4.44061607e-01,\n",
       "          6.95484579e-02,  7.66999424e-02, -2.72006571e-01,\n",
       "          6.14290118e-01,  2.25557715e-01,  1.36757642e-01,\n",
       "          1.02196932e-02, -5.50668895e-01, -1.92580149e-01,\n",
       "          1.75439745e-01, -1.83210075e-01,  1.72856972e-01,\n",
       "         -8.56660903e-02,  4.24630456e-02],\n",
       "        [ 1.05726704e-01, -2.64151335e-01,  4.54540372e-01,\n",
       "          1.48900643e-01,  8.50085914e-02,  6.28457844e-01,\n",
       "          4.53424037e-01,  1.79788440e-01,  1.57883033e-01,\n",
       "          2.97098964e-01, -2.43528754e-01,  1.18030906e-01,\n",
       "          3.47820014e-01, -2.83927452e-02, -1.15721866e-01,\n",
       "         -4.20557559e-02,  1.67318389e-01, -1.86313897e-01,\n",
       "          2.65521497e-01,  1.27685905e-01,  3.09630305e-01,\n",
       "          2.08780169e-02, -2.33931184e-01, -3.70606393e-01,\n",
       "         -2.53845245e-01, -4.90299761e-01,  2.62896419e-01,\n",
       "         -3.59987259e-01, -7.73002803e-02, -2.03335121e-01,\n",
       "         -3.46406549e-01,  2.47039109e-01],\n",
       "        [-3.31059396e-02, -2.71367550e-01,  1.73763365e-01,\n",
       "          2.60306746e-01,  6.53693378e-02,  1.09573871e-01,\n",
       "         -5.09479642e-03, -8.20000768e-02, -4.86155450e-02,\n",
       "          2.37297028e-01,  3.46673816e-01, -1.87564343e-01,\n",
       "          4.28456068e-03,  2.18130857e-01, -3.39889884e-01,\n",
       "          2.48677760e-01,  2.54856735e-01, -3.30299705e-01,\n",
       "         -3.35155129e-02, -2.29350597e-01,  4.69902158e-03,\n",
       "          1.35576040e-01,  2.59194165e-01,  3.39664131e-01,\n",
       "         -1.85768217e-01, -3.09639812e-01, -2.05232978e-01,\n",
       "         -3.18026543e-01,  5.67380786e-02, -4.35692072e-02,\n",
       "         -1.68992758e-01, -3.51974815e-01]], dtype=float32),\n",
       " array([ 0.1553232 ,  0.        , -0.16428012, -0.017775  , -0.13692847,\n",
       "        -0.11652752, -0.10573418,  0.        , -0.02719504, -0.01176709,\n",
       "         0.13586155,  0.        , -0.15694918, -0.00866542,  0.17326623,\n",
       "         0.26889166, -0.05385878,  0.3687088 ,  0.        ,  0.        ,\n",
       "        -0.00494249, -0.13591586,  0.        , -0.01832276, -0.01920342,\n",
       "         0.36831447, -0.05352932, -0.01525383,  0.        , -0.06962088,\n",
       "         0.        , -0.17145601], dtype=float32),\n",
       " array([[-0.0078593 , -0.2283369 ],\n",
       "        [ 0.34600237, -0.22527401],\n",
       "        [-0.279307  ,  0.30529618],\n",
       "        [ 0.25155672,  0.06228615],\n",
       "        [-0.36622486,  0.328682  ],\n",
       "        [-0.26134732,  0.5423029 ],\n",
       "        [-0.31600353,  0.511212  ],\n",
       "        [-0.10912168, -0.22919682],\n",
       "        [ 0.28306654, -0.23392478],\n",
       "        [-0.40421417, -0.21569881],\n",
       "        [ 0.43150672, -0.09578045],\n",
       "        [ 0.01595011,  0.18548688],\n",
       "        [-0.6265393 , -0.060232  ],\n",
       "        [ 0.27316928, -0.01842933],\n",
       "        [ 0.31955123, -0.22092815],\n",
       "        [ 0.27193138, -0.5618308 ],\n",
       "        [ 0.35173762, -0.16619825],\n",
       "        [ 0.6991902 , -0.5242332 ],\n",
       "        [ 0.3964667 ,  0.07067949],\n",
       "        [ 0.04562908,  0.09400639],\n",
       "        [ 0.10822673,  0.3937788 ],\n",
       "        [-0.10804876,  0.70451504],\n",
       "        [ 0.03785101, -0.18958588],\n",
       "        [ 0.14906472, -0.0397914 ],\n",
       "        [-0.14186454,  0.00920667],\n",
       "        [ 0.6035136 , -0.7296932 ],\n",
       "        [ 0.15819857, -0.08275187],\n",
       "        [-0.2730679 , -0.30061924],\n",
       "        [ 0.2844462 ,  0.19443926],\n",
       "        [ 0.03311413, -0.3469391 ],\n",
       "        [-0.25937977,  0.28904262],\n",
       "        [-0.6862652 , -0.10568685]], dtype=float32),\n",
       " array([ 0.18483225, -0.18483226], dtype=float32)]"
      ]
     },
     "execution_count": 76,
     "metadata": {},
     "output_type": "execute_result"
    }
   ],
   "source": [
    "model2.get_weights()"
   ]
  },
  {
   "cell_type": "code",
   "execution_count": null,
   "metadata": {},
   "outputs": [],
   "source": []
  }
 ],
 "metadata": {
  "kernelspec": {
   "display_name": "Python 3",
   "language": "python",
   "name": "python3"
  },
  "language_info": {
   "codemirror_mode": {
    "name": "ipython",
    "version": 3
   },
   "file_extension": ".py",
   "mimetype": "text/x-python",
   "name": "python",
   "nbconvert_exporter": "python",
   "pygments_lexer": "ipython3",
   "version": "3.6.10"
  }
 },
 "nbformat": 4,
 "nbformat_minor": 4
}
