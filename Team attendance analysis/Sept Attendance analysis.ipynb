{
 "cells": [
  {
   "cell_type": "markdown",
   "metadata": {},
   "source": [
    "# MCA sept Attendance analysis"
   ]
  },
  {
   "cell_type": "code",
   "execution_count": 28,
   "metadata": {},
   "outputs": [],
   "source": [
    "import os\n",
    "import glob\n",
    "import pandas as pd\n",
    "os.chdir(\"D:/attendance gku classes/attendance/MCA5th/Sept\")"
   ]
  },
  {
   "cell_type": "code",
   "execution_count": 29,
   "metadata": {},
   "outputs": [],
   "source": [
    "extension = 'xlsx'\n",
    "all_filenames = [i for i in glob.glob('*.{}'.format(extension))]"
   ]
  },
  {
   "cell_type": "code",
   "execution_count": 30,
   "metadata": {},
   "outputs": [
    {
     "data": {
      "text/plain": [
       "['mca 5th23_09_20.xlsx',\n",
       " 'mca4th 8_9_20.xlsx',\n",
       " 'mca5th 14_9_20.xlsx',\n",
       " 'mca5th 18_9_20.xlsx',\n",
       " 'mca5th 24_9_20.xlsx',\n",
       " 'mca5th 2_9_20.xlsx',\n",
       " 'mca5th 30_09_20.xlsx',\n",
       " 'MCA5th 3_9_20.xlsx',\n",
       " 'mca5th 4_9_20.xlsx',\n",
       " 'mca5th sem 11_9_20.xlsx',\n",
       " 'mca5th sem 17_09_20.xlsx',\n",
       " 'mca5th sem9_9_20.xlsx',\n",
       " 'mca5th10_9_20.xlsx',\n",
       " 'MCA5th15_9_20.xlsx',\n",
       " 'mca5th21_9_20.xlsx',\n",
       " 'mca5th22_09_20.xlsx',\n",
       " 'mca5th28_09_20.xlsx',\n",
       " 'mca5th29_9_20.xlsx']"
      ]
     },
     "execution_count": 30,
     "metadata": {},
     "output_type": "execute_result"
    }
   ],
   "source": [
    "all_filenames"
   ]
  },
  {
   "cell_type": "code",
   "execution_count": 31,
   "metadata": {},
   "outputs": [],
   "source": [
    "#combine all files in the list\n",
    "combined_csv = pd.concat([pd.read_excel(f) for f in all_filenames ])\n",
    "#export to csv\n",
    "combined_csv.to_csv( \"combined_csv.csv\", index=False, encoding='utf-8-sig')"
   ]
  },
  {
   "cell_type": "code",
   "execution_count": 32,
   "metadata": {},
   "outputs": [],
   "source": [
    "df=pd.read_csv(\"combined_csv.csv\")"
   ]
  },
  {
   "cell_type": "code",
   "execution_count": 33,
   "metadata": {},
   "outputs": [
    {
     "data": {
      "text/plain": [
       "HARINDER SINGH    17\n",
       "Dr deepak         17\n",
       "HARPREET KAUR     15\n",
       "BITTU KUMAR       15\n",
       "SANDEEP KAUR      14\n",
       "RAJWINDER KAUR    14\n",
       "GURPREET SINGH    13\n",
       "AMANDEEP SINGH    13\n",
       "ARSHDEEP KAUR     12\n",
       "RAJINDER KAUR     11\n",
       "BHAVYA NAYYAR      5\n",
       "AMANDEEP KAUR      3\n",
       "harpreet kaur      1\n",
       "amandeep sing      1\n",
       "rajwinder kaur     1\n",
       "harinder singh     1\n",
       "sandeep kaur       1\n",
       "Name: Full Name, dtype: int64"
      ]
     },
     "execution_count": 33,
     "metadata": {},
     "output_type": "execute_result"
    }
   ],
   "source": [
    "df['Full Name'].value_counts()"
   ]
  },
  {
   "cell_type": "code",
   "execution_count": 34,
   "metadata": {},
   "outputs": [],
   "source": [
    "df['Full Name']=df['Full Name'].str.upper()"
   ]
  },
  {
   "cell_type": "code",
   "execution_count": 35,
   "metadata": {},
   "outputs": [
    {
     "data": {
      "text/html": [
       "<div>\n",
       "<style scoped>\n",
       "    .dataframe tbody tr th:only-of-type {\n",
       "        vertical-align: middle;\n",
       "    }\n",
       "\n",
       "    .dataframe tbody tr th {\n",
       "        vertical-align: top;\n",
       "    }\n",
       "\n",
       "    .dataframe thead th {\n",
       "        text-align: right;\n",
       "    }\n",
       "</style>\n",
       "<table border=\"1\" class=\"dataframe\">\n",
       "  <thead>\n",
       "    <tr style=\"text-align: right;\">\n",
       "      <th></th>\n",
       "      <th>Full Name</th>\n",
       "      <th>User Action</th>\n",
       "      <th>Timestamp</th>\n",
       "    </tr>\n",
       "  </thead>\n",
       "  <tbody>\n",
       "    <tr>\n",
       "      <th>0</th>\n",
       "      <td>DR DEEPAK</td>\n",
       "      <td>Joined</td>\n",
       "      <td>9/23/2020, 3:09:45 PM</td>\n",
       "    </tr>\n",
       "    <tr>\n",
       "      <th>1</th>\n",
       "      <td>HARINDER SINGH</td>\n",
       "      <td>Joined</td>\n",
       "      <td>9/23/2020, 3:12:21 PM</td>\n",
       "    </tr>\n",
       "    <tr>\n",
       "      <th>2</th>\n",
       "      <td>HARPREET KAUR</td>\n",
       "      <td>Joined</td>\n",
       "      <td>9/23/2020, 3:12:28 PM</td>\n",
       "    </tr>\n",
       "    <tr>\n",
       "      <th>3</th>\n",
       "      <td>RAJINDER KAUR</td>\n",
       "      <td>Joined</td>\n",
       "      <td>9/23/2020, 3:13:14 PM</td>\n",
       "    </tr>\n",
       "    <tr>\n",
       "      <th>4</th>\n",
       "      <td>SANDEEP KAUR</td>\n",
       "      <td>Joined</td>\n",
       "      <td>9/23/2020, 3:13:56 PM</td>\n",
       "    </tr>\n",
       "  </tbody>\n",
       "</table>\n",
       "</div>"
      ],
      "text/plain": [
       "        Full Name User Action              Timestamp\n",
       "0       DR DEEPAK      Joined  9/23/2020, 3:09:45 PM\n",
       "1  HARINDER SINGH      Joined  9/23/2020, 3:12:21 PM\n",
       "2   HARPREET KAUR      Joined  9/23/2020, 3:12:28 PM\n",
       "3   RAJINDER KAUR      Joined  9/23/2020, 3:13:14 PM\n",
       "4    SANDEEP KAUR      Joined  9/23/2020, 3:13:56 PM"
      ]
     },
     "execution_count": 35,
     "metadata": {},
     "output_type": "execute_result"
    }
   ],
   "source": [
    "df.head()"
   ]
  },
  {
   "cell_type": "code",
   "execution_count": 36,
   "metadata": {},
   "outputs": [],
   "source": [
    "df['Timestamp'] = pd.to_datetime(df['Timestamp']).dt.date"
   ]
  },
  {
   "cell_type": "code",
   "execution_count": 37,
   "metadata": {},
   "outputs": [],
   "source": [
    "bytime=df.groupby('Timestamp')"
   ]
  },
  {
   "cell_type": "code",
   "execution_count": 40,
   "metadata": {},
   "outputs": [
    {
     "data": {
      "text/plain": [
       "Timestamp\n",
       "2020-09-02     9\n",
       "2020-09-03     9\n",
       "2020-09-04     8\n",
       "2020-09-09     6\n",
       "2020-09-10     9\n",
       "2020-09-11     9\n",
       "2020-09-14     9\n",
       "2020-09-15     8\n",
       "2020-09-17     9\n",
       "2020-09-18    10\n",
       "2020-09-21     8\n",
       "2020-09-22     9\n",
       "2020-09-23    10\n",
       "2020-09-24     9\n",
       "2020-09-28     8\n",
       "2020-09-29     9\n",
       "2020-09-30    10\n",
       "dtype: int64"
      ]
     },
     "execution_count": 40,
     "metadata": {},
     "output_type": "execute_result"
    }
   ],
   "source": [
    "bytime.size()"
   ]
  },
  {
   "cell_type": "markdown",
   "metadata": {},
   "source": [
    "# BCA 5th cc attendance analysis"
   ]
  },
  {
   "cell_type": "code",
   "execution_count": 42,
   "metadata": {},
   "outputs": [],
   "source": [
    "os.chdir(\"D:/attendance gku classes/attendance/BCA5th Cloud/Sept\")"
   ]
  },
  {
   "cell_type": "code",
   "execution_count": 43,
   "metadata": {},
   "outputs": [],
   "source": [
    "extension = 'xlsx'\n",
    "all_filenames = [i for i in glob.glob('*.{}'.format(extension))]"
   ]
  },
  {
   "cell_type": "code",
   "execution_count": 44,
   "metadata": {},
   "outputs": [
    {
     "data": {
      "text/plain": [
       "['bca-cc-5th sem 9_9_20.xlsx',\n",
       " 'bca-cc25_9_20.xlsx',\n",
       " 'bca-cc5th 10_9_20.xlsx',\n",
       " 'bca-cc5th 21_9_20.xlsx',\n",
       " 'bca-cc5th 22_9_20.xlsx',\n",
       " 'bca-cc5th 24_09_20.xlsx',\n",
       " 'bca-cc5th sem 16_9_20.xlsx',\n",
       " 'bca-cc5th15_9_20.xlsx',\n",
       " 'bca-cc5th23_09_20.xlsx',\n",
       " 'BCA5th CC14_9_20.xlsx',\n",
       " 'bca5th-cc29_09_20.xlsx',\n",
       " 'bca5th-cc8_9_20.xlsx',\n",
       " 'BCA5thcc 30_09_20.xlsx',\n",
       " 'bca5thcc17_9_20.xlsx',\n",
       " 'bca5thcc3_9_20.xlsx',\n",
       " 'bca5thcc7_9_20.xlsx']"
      ]
     },
     "execution_count": 44,
     "metadata": {},
     "output_type": "execute_result"
    }
   ],
   "source": [
    "all_filenames"
   ]
  },
  {
   "cell_type": "code",
   "execution_count": 45,
   "metadata": {},
   "outputs": [],
   "source": [
    "#combine all files in the list\n",
    "combined_csv = pd.concat([pd.read_excel(f) for f in all_filenames ])\n",
    "#export to csv\n",
    "combined_csv.to_csv( \"BCA5thCCcombined_csv.csv\", index=False, encoding='utf-8-sig')"
   ]
  },
  {
   "cell_type": "code",
   "execution_count": 46,
   "metadata": {},
   "outputs": [],
   "source": [
    "df=pd.read_csv(\"BCA5thCCcombined_csv.csv\")"
   ]
  },
  {
   "cell_type": "code",
   "execution_count": 48,
   "metadata": {},
   "outputs": [],
   "source": [
    "df['Full Name']=df['Full Name'].str.upper()"
   ]
  },
  {
   "cell_type": "code",
   "execution_count": 49,
   "metadata": {},
   "outputs": [],
   "source": [
    "df['Timestamp'] = pd.to_datetime(df['Timestamp']).dt.date"
   ]
  },
  {
   "cell_type": "code",
   "execution_count": 50,
   "metadata": {},
   "outputs": [],
   "source": [
    "bytime=df.groupby('Timestamp')"
   ]
  },
  {
   "cell_type": "code",
   "execution_count": 56,
   "metadata": {},
   "outputs": [
    {
     "data": {
      "text/plain": [
       "16"
      ]
     },
     "execution_count": 56,
     "metadata": {},
     "output_type": "execute_result"
    }
   ],
   "source": [
    "bytime.size().count()"
   ]
  },
  {
   "cell_type": "markdown",
   "metadata": {},
   "source": [
    "# BCA 5th sept analysis"
   ]
  },
  {
   "cell_type": "code",
   "execution_count": 59,
   "metadata": {},
   "outputs": [],
   "source": [
    "os.chdir(\"D:/attendance gku classes/attendance/BCA5th/Sept\")"
   ]
  },
  {
   "cell_type": "code",
   "execution_count": 60,
   "metadata": {},
   "outputs": [],
   "source": [
    "extension = 'xlsx'\n",
    "all_filenames = [i for i in glob.glob('*.{}'.format(extension))]"
   ]
  },
  {
   "cell_type": "code",
   "execution_count": 61,
   "metadata": {},
   "outputs": [
    {
     "data": {
      "text/plain": [
       "['bca5th 11_09_20.xlsx',\n",
       " 'bca5th 14_09_20.xlsx',\n",
       " 'bca5th 16_9_20.xlsx',\n",
       " 'bca5th 17_9_20.xlsx',\n",
       " 'bca5th 18_09_20.xlsx',\n",
       " 'bca5th 1_10_2020.xlsx',\n",
       " 'bca5th 21_9_20.xlsx',\n",
       " 'bca5th 2_9_20.xlsx',\n",
       " 'bca5th 4_9_20.xlsx',\n",
       " 'bca5th 7_9_20.xlsx',\n",
       " 'bca5th 8_9_2020.xlsx',\n",
       " 'bca5th 9_9_20.xlsx',\n",
       " 'bca5th10_9_20.xlsx',\n",
       " 'bca5th15_9_20.xlsx',\n",
       " 'bca5th22_9_20.xlsx',\n",
       " 'bca5th23_09_20.xlsx',\n",
       " 'bca5th24_09_2020.xlsx',\n",
       " 'bca5th25_09_20.xlsx',\n",
       " 'bca5th28_09_20.xlsx',\n",
       " 'bca5th29_9_20.xlsx',\n",
       " 'bca5th30_09_20.xlsx']"
      ]
     },
     "execution_count": 61,
     "metadata": {},
     "output_type": "execute_result"
    }
   ],
   "source": [
    "all_filenames"
   ]
  },
  {
   "cell_type": "code",
   "execution_count": 62,
   "metadata": {},
   "outputs": [],
   "source": [
    "#combine all files in the list\n",
    "combined_csv = pd.concat([pd.read_excel(f) for f in all_filenames ])\n",
    "#export to csv\n",
    "combined_csv.to_csv( \"BCA5thcombined_csv.csv\", index=False, encoding='utf-8-sig')"
   ]
  },
  {
   "cell_type": "code",
   "execution_count": 63,
   "metadata": {},
   "outputs": [],
   "source": [
    "df=pd.read_csv(\"BCA5thcombined_csv.csv\")"
   ]
  },
  {
   "cell_type": "code",
   "execution_count": 64,
   "metadata": {},
   "outputs": [],
   "source": [
    "df['Full Name']=df['Full Name'].str.upper()"
   ]
  },
  {
   "cell_type": "code",
   "execution_count": 65,
   "metadata": {},
   "outputs": [],
   "source": [
    "df['Timestamp'] = pd.to_datetime(df['Timestamp']).dt.date"
   ]
  },
  {
   "cell_type": "code",
   "execution_count": 66,
   "metadata": {},
   "outputs": [],
   "source": [
    "bytime=df.groupby('Timestamp')"
   ]
  },
  {
   "cell_type": "code",
   "execution_count": 73,
   "metadata": {},
   "outputs": [
    {
     "data": {
      "text/plain": [
       "20"
      ]
     },
     "execution_count": 73,
     "metadata": {},
     "output_type": "execute_result"
    }
   ],
   "source": [
    "bytime.size().count()"
   ]
  },
  {
   "cell_type": "markdown",
   "metadata": {},
   "source": [
    "# BCA3rd cc analysis"
   ]
  },
  {
   "cell_type": "code",
   "execution_count": 75,
   "metadata": {},
   "outputs": [],
   "source": [
    "os.chdir(\"D:/attendance gku classes/attendance/bca3rdCC/Sept\")\n",
    "extension = 'xlsx'\n",
    "all_filenames = [i for i in glob.glob('*.{}'.format(extension))]\n",
    "#combine all files in the list\n",
    "combined_csv = pd.concat([pd.read_excel(f) for f in all_filenames ])\n",
    "#export to csv\n",
    "combined_csv.to_csv( \"BCA3rdCCcombined_csv.csv\", index=False, encoding='utf-8-sig')\n",
    "df=pd.read_csv(\"BCA3rdCCcombined_csv.csv\")\n",
    "df['Full Name']=df['Full Name'].str.upper()\n",
    "df['Timestamp'] = pd.to_datetime(df['Timestamp']).dt.date\n",
    "bytime=df.groupby('Timestamp')\n"
   ]
  },
  {
   "cell_type": "code",
   "execution_count": 81,
   "metadata": {},
   "outputs": [
    {
     "data": {
      "text/plain": [
       "13"
      ]
     },
     "execution_count": 81,
     "metadata": {},
     "output_type": "execute_result"
    }
   ],
   "source": [
    "bytime.size().count()"
   ]
  },
  {
   "cell_type": "code",
   "execution_count": null,
   "metadata": {},
   "outputs": [],
   "source": []
  }
 ],
 "metadata": {
  "kernelspec": {
   "display_name": "Python 3",
   "language": "python",
   "name": "python3"
  },
  "language_info": {
   "codemirror_mode": {
    "name": "ipython",
    "version": 3
   },
   "file_extension": ".py",
   "mimetype": "text/x-python",
   "name": "python",
   "nbconvert_exporter": "python",
   "pygments_lexer": "ipython3",
   "version": "3.6.10"
  }
 },
 "nbformat": 4,
 "nbformat_minor": 4
}
